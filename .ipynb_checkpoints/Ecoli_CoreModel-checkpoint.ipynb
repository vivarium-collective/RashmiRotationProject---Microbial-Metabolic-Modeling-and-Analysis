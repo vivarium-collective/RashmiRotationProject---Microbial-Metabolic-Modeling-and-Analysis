{
 "cells": [
  {
   "cell_type": "code",
   "execution_count": null,
   "id": "84d8a35f",
   "metadata": {},
   "outputs": [],
   "source": [
    "ReactionFormulas = {'acald[c] + coa[c] + nad[c]  <=> accoa[c] + h[c] + nadh[c]',...\n",
    " 'acald[e] -> acald[c]',...\n",
    " 'ac[c] + atp[c] <=> actp[c] + adp[c]',...\n",
    " 'cit[c] <=> acon_C[c] + h2o[c]',...\n",
    " 'acon_C[c] + h2o[c] ⇌ icit[c]',...\n",
    " 'fdp[c]  -> g3p[c] + dhap[c]',...\n",
    " 'dhap[c]  -> g3p[c]'};\n",
    "\n",
    "ReactionIdentifiers = {'ACALD', 'ACALDt','ACKr','ACONTa','ACONTb','ACt2r'}\n",
    "ReactionNames = {'Acetaldehyde dehydrogenase-acetylating', 'Acetaldehyde reversible transport', 'Acetate kinase', 'AconitaseA', 'AconitaseB', 'Acetate reversible transport via proton symport', 'TPI'};\n",
    "lowerbounds = [-1000.0, -1000.0, -1000, -1000, -1000, -20, -20];\n",
    "upperbounds = [1000.0, 1000.0, 1000, 1000, 1000, 20, 20];\n",
    "subSystemList = {'Pyruvate Metabolism' ,'Transport, Extracellular','Pyruvate Metabolism','Citric Acid Cycle','Citric Acid Cycle' }\n",
    "grRuleList = {'b0351 or b1241','s0001','b3115 or b2296 or b1849','b0118 or b1276','b0118 or b1276'}\n"
   ]
  },
  {
   "cell_type": "code",
   "execution_count": 1,
   "id": "33a128b1",
   "metadata": {},
   "outputs": [
    {
     "ename": "ImportError",
     "evalue": "cannot import name 'read_sbml' from 'cobra.io' (C:\\Users\\User\\anaconda3\\envs\\Cobra\\lib\\site-packages\\cobra\\io\\__init__.py)",
     "output_type": "error",
     "traceback": [
      "\u001b[1;31m---------------------------------------------------------------------------\u001b[0m",
      "\u001b[1;31mImportError\u001b[0m                               Traceback (most recent call last)",
      "\u001b[1;32m~\\AppData\\Local\\Temp\\ipykernel_4824\\1821303193.py\u001b[0m in \u001b[0;36m<module>\u001b[1;34m\u001b[0m\n\u001b[1;32m----> 1\u001b[1;33m \u001b[1;32mfrom\u001b[0m \u001b[0mcobra\u001b[0m\u001b[1;33m.\u001b[0m\u001b[0mio\u001b[0m \u001b[1;32mimport\u001b[0m \u001b[0mread_sbml\u001b[0m\u001b[1;33m\u001b[0m\u001b[1;33m\u001b[0m\u001b[0m\n\u001b[0m",
      "\u001b[1;31mImportError\u001b[0m: cannot import name 'read_sbml' from 'cobra.io' (C:\\Users\\User\\anaconda3\\envs\\Cobra\\lib\\site-packages\\cobra\\io\\__init__.py)"
     ]
    }
   ],
   "source": [
    "from cobra.io import read_sbml"
   ]
  },
  {
   "cell_type": "code",
   "execution_count": 6,
   "id": "c50115c3",
   "metadata": {},
   "outputs": [],
   "source": [
    "from cobra.io import read_sbml_model"
   ]
  },
  {
   "cell_type": "code",
   "execution_count": 7,
   "id": "12ba5629",
   "metadata": {},
   "outputs": [],
   "source": [
    "model = read_sbml_model('C:/Users/User/Downloads/e_coli_core.xml')"
   ]
  },
  {
   "cell_type": "code",
   "execution_count": 8,
   "id": "688f73bb",
   "metadata": {},
   "outputs": [
    {
     "data": {
      "text/plain": [
       "[<Reaction PFK at 0x244e80d6288>,\n",
       " <Reaction PFL at 0x244e80d6248>,\n",
       " <Reaction PGI at 0x244e80dd608>,\n",
       " <Reaction PGK at 0x244e80e3a88>,\n",
       " <Reaction PGL at 0x244e80e3a08>,\n",
       " <Reaction ACALD at 0x244e80e3908>,\n",
       " <Reaction AKGt2r at 0x244e80eac48>,\n",
       " <Reaction PGM at 0x244e80e63c8>,\n",
       " <Reaction PIt2r at 0x244e80ec048>,\n",
       " <Reaction ALCD2x at 0x244e80f66c8>,\n",
       " <Reaction ACALDt at 0x244e80f6688>,\n",
       " <Reaction ACKr at 0x244e80fae88>,\n",
       " <Reaction PPC at 0x244e80f9748>,\n",
       " <Reaction ACONTa at 0x244e81026c8>,\n",
       " <Reaction ACONTb at 0x244e80fae48>,\n",
       " <Reaction ATPM at 0x244e8102688>,\n",
       " <Reaction PPCK at 0x244e8107688>,\n",
       " <Reaction ACt2r at 0x244e8107548>,\n",
       " <Reaction PPS at 0x244e81049c8>,\n",
       " <Reaction ADK1 at 0x244e8111648>,\n",
       " <Reaction AKGDH at 0x244e8111548>,\n",
       " <Reaction ATPS4r at 0x244e8116508>,\n",
       " <Reaction PTAr at 0x244e811f508>,\n",
       " <Reaction PYK at 0x244e8123f08>,\n",
       " <Reaction BIOMASS_Ecoli_core_w_GAM at 0x244e8123e88>,\n",
       " <Reaction PYRt2 at 0x244e8123e08>,\n",
       " <Reaction CO2t at 0x244e81163c8>,\n",
       " <Reaction RPE at 0x244e812cb88>,\n",
       " <Reaction CS at 0x244e8123f88>,\n",
       " <Reaction RPI at 0x244e812ca88>,\n",
       " <Reaction SUCCt2_2 at 0x244e813a608>,\n",
       " <Reaction CYTBD at 0x244e8141608>,\n",
       " <Reaction D_LACt2 at 0x244e8141588>,\n",
       " <Reaction ENO at 0x244e8147cc8>,\n",
       " <Reaction SUCCt3 at 0x244e8147908>,\n",
       " <Reaction ETOHt2r at 0x244e8144888>,\n",
       " <Reaction SUCDi at 0x244e814ecc8>,\n",
       " <Reaction SUCOAS at 0x244e8147508>,\n",
       " <Reaction TALA at 0x244e8156bc8>,\n",
       " <Reaction THD2 at 0x244e8156b48>,\n",
       " <Reaction TKT1 at 0x244e814a608>,\n",
       " <Reaction TKT2 at 0x244e815e448>,\n",
       " <Reaction TPI at 0x244e8163048>,\n",
       " <Reaction EX_ac_e at 0x244e8163ac8>,\n",
       " <Reaction EX_acald_e at 0x244e814ec48>,\n",
       " <Reaction EX_akg_e at 0x244e8169c08>,\n",
       " <Reaction EX_co2_e at 0x244e815ef08>,\n",
       " <Reaction EX_etoh_e at 0x244e816a888>,\n",
       " <Reaction EX_for_e at 0x244e816ae08>,\n",
       " <Reaction EX_fru_e at 0x244e816f248>,\n",
       " <Reaction EX_fum_e at 0x244e816f908>,\n",
       " <Reaction EX_glc__D_e at 0x244e81721c8>,\n",
       " <Reaction EX_gln__L_e at 0x244e8172b48>,\n",
       " <Reaction EX_glu__L_e at 0x244e8172f88>,\n",
       " <Reaction EX_h_e at 0x244e8175588>,\n",
       " <Reaction EX_h2o_e at 0x244e8175e08>,\n",
       " <Reaction EX_lac__D_e at 0x244e8178908>,\n",
       " <Reaction EX_mal__L_e at 0x244e8179a08>,\n",
       " <Reaction EX_nh4_e at 0x244e817cec8>,\n",
       " <Reaction EX_o2_e at 0x244e817e3c8>,\n",
       " <Reaction EX_pi_e at 0x244e817e908>,\n",
       " <Reaction EX_pyr_e at 0x244e8181608>,\n",
       " <Reaction EX_succ_e at 0x244e8181b48>,\n",
       " <Reaction FBA at 0x244e8182408>,\n",
       " <Reaction FBP at 0x244e8182a08>,\n",
       " <Reaction FORt2 at 0x244e8187c48>,\n",
       " <Reaction FORt at 0x244e8187e08>,\n",
       " <Reaction FRD7 at 0x244e818ad88>,\n",
       " <Reaction FRUpts2 at 0x244e818cb48>,\n",
       " <Reaction FUM at 0x244e81927c8>,\n",
       " <Reaction FUMt2_2 at 0x244e8197688>,\n",
       " <Reaction G6PDH2r at 0x244e8199dc8>,\n",
       " <Reaction GAPD at 0x244e818f908>,\n",
       " <Reaction GLCpts at 0x244e819c848>,\n",
       " <Reaction GLNS at 0x244e819e748>,\n",
       " <Reaction GLNabc at 0x244e81a7f88>,\n",
       " <Reaction GLUDy at 0x244e81a7788>,\n",
       " <Reaction GLUN at 0x244e81b2f08>,\n",
       " <Reaction GLUSy at 0x244e81a7e48>,\n",
       " <Reaction GLUt2r at 0x244e81bcf48>,\n",
       " <Reaction GND at 0x244e81b2ec8>,\n",
       " <Reaction H2Ot at 0x244e81a5308>,\n",
       " <Reaction ICDHyr at 0x244e81c3348>,\n",
       " <Reaction ICL at 0x244e81bcf08>,\n",
       " <Reaction LDH_D at 0x244e81ce148>,\n",
       " <Reaction MALS at 0x244e81ce108>,\n",
       " <Reaction MALt2_2 at 0x244e81cb0c8>,\n",
       " <Reaction MDH at 0x244e81d1c88>,\n",
       " <Reaction ME1 at 0x244e81d9288>,\n",
       " <Reaction ME2 at 0x244e81d9c88>,\n",
       " <Reaction NADH16 at 0x244e81dd748>,\n",
       " <Reaction NADTRHD at 0x244e81df748>,\n",
       " <Reaction NH4t at 0x244e81e5fc8>,\n",
       " <Reaction O2t at 0x244e81ece08>,\n",
       " <Reaction PDH at 0x244e81eccc8>]"
      ]
     },
     "execution_count": 8,
     "metadata": {},
     "output_type": "execute_result"
    }
   ],
   "source": [
    "model.reactions"
   ]
  },
  {
   "cell_type": "code",
   "execution_count": 9,
   "id": "b677b2c4",
   "metadata": {},
   "outputs": [
    {
     "name": "stdout",
     "output_type": "stream",
     "text": [
      "PFK\n",
      "PFL\n",
      "PGI\n",
      "PGK\n",
      "PGL\n",
      "ACALD\n",
      "AKGt2r\n",
      "PGM\n",
      "PIt2r\n",
      "ALCD2x\n",
      "ACALDt\n",
      "ACKr\n",
      "PPC\n",
      "ACONTa\n",
      "ACONTb\n",
      "ATPM\n",
      "PPCK\n",
      "ACt2r\n",
      "PPS\n",
      "ADK1\n",
      "AKGDH\n",
      "ATPS4r\n",
      "PTAr\n",
      "PYK\n",
      "BIOMASS_Ecoli_core_w_GAM\n",
      "PYRt2\n",
      "CO2t\n",
      "RPE\n",
      "CS\n",
      "RPI\n",
      "SUCCt2_2\n",
      "CYTBD\n",
      "D_LACt2\n",
      "ENO\n",
      "SUCCt3\n",
      "ETOHt2r\n",
      "SUCDi\n",
      "SUCOAS\n",
      "TALA\n",
      "THD2\n",
      "TKT1\n",
      "TKT2\n",
      "TPI\n",
      "EX_ac_e\n",
      "EX_acald_e\n",
      "EX_akg_e\n",
      "EX_co2_e\n",
      "EX_etoh_e\n",
      "EX_for_e\n",
      "EX_fru_e\n",
      "EX_fum_e\n",
      "EX_glc__D_e\n",
      "EX_gln__L_e\n",
      "EX_glu__L_e\n",
      "EX_h_e\n",
      "EX_h2o_e\n",
      "EX_lac__D_e\n",
      "EX_mal__L_e\n",
      "EX_nh4_e\n",
      "EX_o2_e\n",
      "EX_pi_e\n",
      "EX_pyr_e\n",
      "EX_succ_e\n",
      "FBA\n",
      "FBP\n",
      "FORt2\n",
      "FORt\n",
      "FRD7\n",
      "FRUpts2\n",
      "FUM\n",
      "FUMt2_2\n",
      "G6PDH2r\n",
      "GAPD\n",
      "GLCpts\n",
      "GLNS\n",
      "GLNabc\n",
      "GLUDy\n",
      "GLUN\n",
      "GLUSy\n",
      "GLUt2r\n",
      "GND\n",
      "H2Ot\n",
      "ICDHyr\n",
      "ICL\n",
      "LDH_D\n",
      "MALS\n",
      "MALt2_2\n",
      "MDH\n",
      "ME1\n",
      "ME2\n",
      "NADH16\n",
      "NADTRHD\n",
      "NH4t\n",
      "O2t\n",
      "PDH\n"
     ]
    }
   ],
   "source": [
    "for r in model.reactions:\n",
    "    print(r.id)"
   ]
  },
  {
   "cell_type": "code",
   "execution_count": 19,
   "id": "fde5e98d",
   "metadata": {},
   "outputs": [
    {
     "data": {
      "text/html": [
       "\n",
       "        <table>\n",
       "            <tr>\n",
       "                <td><strong>Reaction identifier</strong></td><td>PDH</td>\n",
       "            </tr><tr>\n",
       "                <td><strong>Name</strong></td><td>Pyruvate dehydrogenase</td>\n",
       "            </tr><tr>\n",
       "                <td><strong>Memory address</strong></td>\n",
       "                <td>0x244e81eccc8</td>\n",
       "            </tr><tr>\n",
       "                <td><strong>Stoichiometry</strong></td>\n",
       "                <td>\n",
       "                    <p style='text-align:right'>coa_c + nad_c + pyr_c --> accoa_c + co2_c + nadh_c</p>\n",
       "                    <p style='text-align:right'>Coenzyme A + Nicotinamide adenine dinucleotide + Pyruvate --> Acetyl-CoA + CO2 CO2 + Nicotinamide adenine dinucleotide - reduced</p>\n",
       "                </td>\n",
       "            </tr><tr>\n",
       "                <td><strong>GPR</strong></td><td>b0114 and b0115 and b0116</td>\n",
       "            </tr><tr>\n",
       "                <td><strong>Lower bound</strong></td><td>0.0</td>\n",
       "            </tr><tr>\n",
       "                <td><strong>Upper bound</strong></td><td>1000.0</td>\n",
       "            </tr>\n",
       "        </table>\n",
       "        "
      ],
      "text/plain": [
       "<Reaction PDH at 0x244e81eccc8>"
      ]
     },
     "execution_count": 19,
     "metadata": {},
     "output_type": "execute_result"
    }
   ],
   "source": [
    "model.reactions.get_by_id(\"PDH\")"
   ]
  },
  {
   "cell_type": "code",
   "execution_count": 22,
   "id": "adc76bfe",
   "metadata": {},
   "outputs": [
    {
     "name": "stdout",
     "output_type": "stream",
     "text": [
      "O2t: o2_e <=> o2_c\n"
     ]
    }
   ],
   "source": [
    "oxygen = model.reactions.get_by_id(\"O2t\")\n",
    "print(oxygen)"
   ]
  },
  {
   "cell_type": "code",
   "execution_count": 32,
   "id": "0da2bae4",
   "metadata": {
    "scrolled": true
   },
   "outputs": [
    {
     "data": {
      "text/plain": [
       "1000.0"
      ]
     },
     "execution_count": 32,
     "metadata": {},
     "output_type": "execute_result"
    }
   ],
   "source": [
    "oxygen.upper_bound"
   ]
  },
  {
   "cell_type": "code",
   "execution_count": 23,
   "id": "4188f17f",
   "metadata": {},
   "outputs": [
    {
     "data": {
      "text/plain": [
       "95"
      ]
     },
     "execution_count": 23,
     "metadata": {},
     "output_type": "execute_result"
    }
   ],
   "source": [
    "len(model.reactions)"
   ]
  },
  {
   "cell_type": "code",
   "execution_count": 24,
   "id": "e7a33c99",
   "metadata": {},
   "outputs": [
    {
     "data": {
      "text/plain": [
       "[<Metabolite glc__D_e at 0x244e7047f08>,\n",
       " <Metabolite gln__L_c at 0x244dfe88c08>,\n",
       " <Metabolite gln__L_e at 0x244e7047e08>,\n",
       " <Metabolite glu__L_c at 0x244e7047088>,\n",
       " <Metabolite glu__L_e at 0x244e70515c8>,\n",
       " <Metabolite glx_c at 0x244e70610c8>,\n",
       " <Metabolite h2o_c at 0x244e7062ac8>,\n",
       " <Metabolite h2o_e at 0x244e7062bc8>,\n",
       " <Metabolite h_c at 0x244e7063488>,\n",
       " <Metabolite h_e at 0x244e70646c8>,\n",
       " <Metabolite icit_c at 0x244e7061d88>,\n",
       " <Metabolite lac__D_c at 0x244e7066988>,\n",
       " <Metabolite lac__D_e at 0x244e7067f88>,\n",
       " <Metabolite mal__L_c at 0x244e7069688>,\n",
       " <Metabolite mal__L_e at 0x244e7069e88>,\n",
       " <Metabolite nad_c at 0x244e706a688>,\n",
       " <Metabolite nadh_c at 0x244e706ae48>,\n",
       " <Metabolite nadp_c at 0x244e706c608>,\n",
       " <Metabolite nadph_c at 0x244e706cf88>,\n",
       " <Metabolite nh4_c at 0x244e706d7c8>,\n",
       " <Metabolite 13dpg_c at 0x244e706e208>,\n",
       " <Metabolite nh4_e at 0x244e706fa48>,\n",
       " <Metabolite o2_c at 0x244e706fc48>,\n",
       " <Metabolite 2pg_c at 0x244e8043148>,\n",
       " <Metabolite o2_e at 0x244e8043388>,\n",
       " <Metabolite 3pg_c at 0x244e8043f08>,\n",
       " <Metabolite oaa_c at 0x244e80447c8>,\n",
       " <Metabolite pep_c at 0x244e8045388>,\n",
       " <Metabolite 6pgc_c at 0x244e8045b48>,\n",
       " <Metabolite pi_c at 0x244e80464c8>,\n",
       " <Metabolite 6pgl_c at 0x244e8046c48>,\n",
       " <Metabolite pi_e at 0x244e804a188>,\n",
       " <Metabolite ac_c at 0x244e804a288>,\n",
       " <Metabolite pyr_c at 0x244e804d6c8>,\n",
       " <Metabolite pyr_e at 0x244e804d808>,\n",
       " <Metabolite q8_c at 0x244e804f308>,\n",
       " <Metabolite q8h2_c at 0x244e804fc88>,\n",
       " <Metabolite r5p_c at 0x244e8051648>,\n",
       " <Metabolite ru5p__D_c at 0x244e8051ac8>,\n",
       " <Metabolite ac_e at 0x244e8051f08>,\n",
       " <Metabolite acald_c at 0x244e80524c8>,\n",
       " <Metabolite s7p_c at 0x244e8052d88>,\n",
       " <Metabolite acald_e at 0x244e8054888>,\n",
       " <Metabolite accoa_c at 0x244e80550c8>,\n",
       " <Metabolite succ_c at 0x244e80558c8>,\n",
       " <Metabolite succ_e at 0x244e8056148>,\n",
       " <Metabolite succoa_c at 0x244e8056b48>,\n",
       " <Metabolite acon_C_c at 0x244e8057688>,\n",
       " <Metabolite xu5p__D_c at 0x244e805a1c8>,\n",
       " <Metabolite actp_c at 0x244e805a9c8>,\n",
       " <Metabolite adp_c at 0x244e805d108>,\n",
       " <Metabolite akg_c at 0x244e805d808>,\n",
       " <Metabolite akg_e at 0x244e805de48>,\n",
       " <Metabolite amp_c at 0x244e805e8c8>,\n",
       " <Metabolite atp_c at 0x244e8060308>,\n",
       " <Metabolite cit_c at 0x244e8061808>,\n",
       " <Metabolite co2_c at 0x244e8061908>,\n",
       " <Metabolite co2_e at 0x244e8062488>,\n",
       " <Metabolite coa_c at 0x244e8062f88>,\n",
       " <Metabolite dhap_c at 0x244e8064a48>,\n",
       " <Metabolite e4p_c at 0x244e8066508>,\n",
       " <Metabolite etoh_c at 0x244e805c088>,\n",
       " <Metabolite etoh_e at 0x244e805c888>,\n",
       " <Metabolite f6p_c at 0x244e805cf48>,\n",
       " <Metabolite fdp_c at 0x244e80679c8>,\n",
       " <Metabolite for_c at 0x244e8069408>,\n",
       " <Metabolite for_e at 0x244e8069a48>,\n",
       " <Metabolite fru_e at 0x244e806c8c8>,\n",
       " <Metabolite fum_c at 0x244e806d3c8>,\n",
       " <Metabolite fum_e at 0x244e806d508>,\n",
       " <Metabolite g3p_c at 0x244e806e208>,\n",
       " <Metabolite g6p_c at 0x244e806ec48>]"
      ]
     },
     "execution_count": 24,
     "metadata": {},
     "output_type": "execute_result"
    }
   ],
   "source": [
    "model.metabolites"
   ]
  },
  {
   "cell_type": "code",
   "execution_count": 33,
   "id": "4791acb6",
   "metadata": {},
   "outputs": [
    {
     "name": "stdout",
     "output_type": "stream",
     "text": [
      "glc__D_e\n",
      "gln__L_c\n",
      "gln__L_e\n",
      "glu__L_c\n",
      "glu__L_e\n",
      "glx_c\n",
      "h2o_c\n",
      "h2o_e\n",
      "h_c\n",
      "h_e\n",
      "icit_c\n",
      "lac__D_c\n",
      "lac__D_e\n",
      "mal__L_c\n",
      "mal__L_e\n",
      "nad_c\n",
      "nadh_c\n",
      "nadp_c\n",
      "nadph_c\n",
      "nh4_c\n",
      "13dpg_c\n",
      "nh4_e\n",
      "o2_c\n",
      "2pg_c\n",
      "o2_e\n",
      "3pg_c\n",
      "oaa_c\n",
      "pep_c\n",
      "6pgc_c\n",
      "pi_c\n",
      "6pgl_c\n",
      "pi_e\n",
      "ac_c\n",
      "pyr_c\n",
      "pyr_e\n",
      "q8_c\n",
      "q8h2_c\n",
      "r5p_c\n",
      "ru5p__D_c\n",
      "ac_e\n",
      "acald_c\n",
      "s7p_c\n",
      "acald_e\n",
      "accoa_c\n",
      "succ_c\n",
      "succ_e\n",
      "succoa_c\n",
      "acon_C_c\n",
      "xu5p__D_c\n",
      "actp_c\n",
      "adp_c\n",
      "akg_c\n",
      "akg_e\n",
      "amp_c\n",
      "atp_c\n",
      "cit_c\n",
      "co2_c\n",
      "co2_e\n",
      "coa_c\n",
      "dhap_c\n",
      "e4p_c\n",
      "etoh_c\n",
      "etoh_e\n",
      "f6p_c\n",
      "fdp_c\n",
      "for_c\n",
      "for_e\n",
      "fru_e\n",
      "fum_c\n",
      "fum_e\n",
      "g3p_c\n",
      "g6p_c\n"
     ]
    }
   ],
   "source": [
    "for x in model.metabolites:\n",
    "    print(x.id)"
   ]
  },
  {
   "cell_type": "code",
   "execution_count": 35,
   "id": "58a90d84",
   "metadata": {},
   "outputs": [],
   "source": [
    "glucm = model.metabolites.get_by_id('glc__D_e')"
   ]
  },
  {
   "cell_type": "code",
   "execution_count": 36,
   "id": "b7394cf6",
   "metadata": {},
   "outputs": [
    {
     "data": {
      "text/plain": [
       "frozenset({<Reaction EX_glc__D_e at 0x244e81721c8>,\n",
       "           <Reaction GLCpts at 0x244e819c848>})"
      ]
     },
     "execution_count": 36,
     "metadata": {},
     "output_type": "execute_result"
    }
   ],
   "source": [
    "glucm.reactions"
   ]
  },
  {
   "cell_type": "code",
   "execution_count": 37,
   "id": "696dc5df",
   "metadata": {},
   "outputs": [
    {
     "ename": "AttributeError",
     "evalue": "'frozenset' object has no attribute 'id'",
     "output_type": "error",
     "traceback": [
      "\u001b[1;31m---------------------------------------------------------------------------\u001b[0m",
      "\u001b[1;31mAttributeError\u001b[0m                            Traceback (most recent call last)",
      "\u001b[1;32m~\\AppData\\Local\\Temp\\ipykernel_4824\\1666320267.py\u001b[0m in \u001b[0;36m<module>\u001b[1;34m\u001b[0m\n\u001b[1;32m----> 1\u001b[1;33m \u001b[0mglucm\u001b[0m\u001b[1;33m.\u001b[0m\u001b[0mreactions\u001b[0m\u001b[1;33m.\u001b[0m\u001b[0mid\u001b[0m\u001b[1;33m\u001b[0m\u001b[1;33m\u001b[0m\u001b[0m\n\u001b[0m",
      "\u001b[1;31mAttributeError\u001b[0m: 'frozenset' object has no attribute 'id'"
     ]
    }
   ],
   "source": [
    "glucm.reactions.id"
   ]
  },
  {
   "cell_type": "code",
   "execution_count": 38,
   "id": "9f16068b",
   "metadata": {},
   "outputs": [
    {
     "name": "stdout",
     "output_type": "stream",
     "text": [
      "GLCpts\n",
      "EX_glc__D_e\n"
     ]
    }
   ],
   "source": [
    "for r in glucm.reactions:\n",
    "    print(r.id)"
   ]
  },
  {
   "cell_type": "code",
   "execution_count": null,
   "id": "ed410d48",
   "metadata": {},
   "outputs": [],
   "source": []
  }
 ],
 "metadata": {
  "kernelspec": {
   "display_name": "Python 3 (ipykernel)",
   "language": "python",
   "name": "python3"
  },
  "language_info": {
   "codemirror_mode": {
    "name": "ipython",
    "version": 3
   },
   "file_extension": ".py",
   "mimetype": "text/x-python",
   "name": "python",
   "nbconvert_exporter": "python",
   "pygments_lexer": "ipython3",
   "version": "3.7.12"
  }
 },
 "nbformat": 4,
 "nbformat_minor": 5
}
