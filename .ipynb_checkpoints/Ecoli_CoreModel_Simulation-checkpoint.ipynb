{
 "cells": [
  {
   "cell_type": "markdown",
   "id": "696b771a",
   "metadata": {},
   "source": [
    "### Loading the model"
   ]
  },
  {
   "cell_type": "code",
   "execution_count": 30,
   "id": "9529b4b7",
   "metadata": {},
   "outputs": [],
   "source": [
    "import cobra\n",
    "import numpy as np\n",
    "from cobra.io import read_sbml_model\n",
    "import matplotlib.pyplot as plt\n",
    "model = read_sbml_model('C:/Users/User/Downloads/e_coli_core.xml')"
   ]
  },
  {
   "cell_type": "markdown",
   "id": "ee9226bd",
   "metadata": {},
   "source": [
    "### Running the model with FBA"
   ]
  },
  {
   "cell_type": "code",
   "execution_count": 2,
   "id": "8e85e281",
   "metadata": {},
   "outputs": [
    {
     "data": {
      "text/latex": [
       "$\\displaystyle 1.0 \\cdot BIOMASS_{Ecoli core w GAM} - 1.0 \\cdot BIOMASS_{Ecoli core w GAM reverse 712e5}$"
      ],
      "text/plain": [
       "1.0*BIOMASS_Ecoli_core_w_GAM - 1.0*BIOMASS_Ecoli_core_w_GAM_reverse_712e5"
      ]
     },
     "execution_count": 2,
     "metadata": {},
     "output_type": "execute_result"
    }
   ],
   "source": [
    "# Understanding the objective expression\n",
    "\n",
    "model.objective.expression"
   ]
  },
  {
   "cell_type": "code",
   "execution_count": 3,
   "id": "08f1161f",
   "metadata": {},
   "outputs": [
    {
     "data": {
      "text/html": [
       "<strong><em>Optimal</em> solution with objective value 0.874</strong><br><div>\n",
       "<style scoped>\n",
       "    .dataframe tbody tr th:only-of-type {\n",
       "        vertical-align: middle;\n",
       "    }\n",
       "\n",
       "    .dataframe tbody tr th {\n",
       "        vertical-align: top;\n",
       "    }\n",
       "\n",
       "    .dataframe thead th {\n",
       "        text-align: right;\n",
       "    }\n",
       "</style>\n",
       "<table border=\"1\" class=\"dataframe\">\n",
       "  <thead>\n",
       "    <tr style=\"text-align: right;\">\n",
       "      <th></th>\n",
       "      <th>fluxes</th>\n",
       "      <th>reduced_costs</th>\n",
       "    </tr>\n",
       "  </thead>\n",
       "  <tbody>\n",
       "    <tr>\n",
       "      <th>PFK</th>\n",
       "      <td>7.477382</td>\n",
       "      <td>0.000000e+00</td>\n",
       "    </tr>\n",
       "    <tr>\n",
       "      <th>PFL</th>\n",
       "      <td>0.000000</td>\n",
       "      <td>-1.527746e-02</td>\n",
       "    </tr>\n",
       "    <tr>\n",
       "      <th>PGI</th>\n",
       "      <td>4.860861</td>\n",
       "      <td>0.000000e+00</td>\n",
       "    </tr>\n",
       "    <tr>\n",
       "      <th>PGK</th>\n",
       "      <td>-16.023526</td>\n",
       "      <td>-0.000000e+00</td>\n",
       "    </tr>\n",
       "    <tr>\n",
       "      <th>PGL</th>\n",
       "      <td>4.959985</td>\n",
       "      <td>5.854692e-18</td>\n",
       "    </tr>\n",
       "    <tr>\n",
       "      <th>...</th>\n",
       "      <td>...</td>\n",
       "      <td>...</td>\n",
       "    </tr>\n",
       "    <tr>\n",
       "      <th>NADH16</th>\n",
       "      <td>38.534610</td>\n",
       "      <td>8.673617e-19</td>\n",
       "    </tr>\n",
       "    <tr>\n",
       "      <th>NADTRHD</th>\n",
       "      <td>0.000000</td>\n",
       "      <td>-2.546243e-03</td>\n",
       "    </tr>\n",
       "    <tr>\n",
       "      <th>NH4t</th>\n",
       "      <td>4.765319</td>\n",
       "      <td>-3.665630e-17</td>\n",
       "    </tr>\n",
       "    <tr>\n",
       "      <th>O2t</th>\n",
       "      <td>21.799493</td>\n",
       "      <td>1.742080e-18</td>\n",
       "    </tr>\n",
       "    <tr>\n",
       "      <th>PDH</th>\n",
       "      <td>9.282533</td>\n",
       "      <td>-6.938894e-18</td>\n",
       "    </tr>\n",
       "  </tbody>\n",
       "</table>\n",
       "<p>95 rows × 2 columns</p>\n",
       "</div>"
      ],
      "text/plain": [
       "<Solution 0.874 at 0x231c40ab0c8>"
      ]
     },
     "execution_count": 3,
     "metadata": {},
     "output_type": "execute_result"
    }
   ],
   "source": [
    "# Simulation using flux balance analysis\n",
    "\n",
    "model.optimize()\n",
    "\n",
    "# output is an optimal solution for the objective function - Gain in Biomass\n",
    "# Fluxes and reduced costs with respect to each reaction\n",
    "# Reduced cost - derivatives of the objective function with respect to a reaction - how much the change of a reaction will affect the objective function"
   ]
  },
  {
   "cell_type": "code",
   "execution_count": 4,
   "id": "1b2605ce",
   "metadata": {},
   "outputs": [
    {
     "data": {
      "text/plain": [
       "-21.79949265599876"
      ]
     },
     "execution_count": 4,
     "metadata": {},
     "output_type": "execute_result"
    }
   ],
   "source": [
    "# Assigning the FBA solution to an object\n",
    "\n",
    "solution = model.optimize()\n",
    "solution.fluxes['EX_o2_e']"
   ]
  },
  {
   "cell_type": "code",
   "execution_count": null,
   "id": "f6ada922",
   "metadata": {},
   "outputs": [],
   "source": []
  },
  {
   "cell_type": "code",
   "execution_count": 5,
   "id": "2ce06cd8",
   "metadata": {},
   "outputs": [
    {
     "name": "stdout",
     "output_type": "stream",
     "text": [
      "0.873921506968431\n",
      "optimal\n",
      "PFK         7.477382\n",
      "PFL         0.000000\n",
      "PGI         4.860861\n",
      "PGK       -16.023526\n",
      "PGL         4.959985\n",
      "             ...    \n",
      "NADH16     38.534610\n",
      "NADTRHD     0.000000\n",
      "NH4t        4.765319\n",
      "O2t        21.799493\n",
      "PDH         9.282533\n",
      "Name: fluxes, Length: 95, dtype: float64\n",
      "glc__D_e   -0.091665\n",
      "gln__L_c   -0.075114\n",
      "gln__L_e   -0.070022\n",
      "glu__L_c   -0.070022\n",
      "glu__L_e   -0.068749\n",
      "              ...   \n",
      "fru_e      -0.091665\n",
      "fum_c      -0.048379\n",
      "fum_e      -0.045832\n",
      "g3p_c      -0.052198\n",
      "g6p_c      -0.098030\n",
      "Name: shadow_prices, Length: 72, dtype: float64\n"
     ]
    }
   ],
   "source": [
    "# Investigating the attributes of the solution object\n",
    "\n",
    "print(solution.objective_value) # The value of the optimal solution of the objective function\n",
    "print(solution.status) # Outcome of the linear programming optimization\n",
    "print(solution.fluxes) #  rate at which metabolites are converted from one form to another in a given reaction\n",
    "print(solution.shadow_prices) # derivatives of the objective function with respect to flux of a metabolite - value of an additional unit of a resource (or constraint) in the context of the objective function"
   ]
  },
  {
   "cell_type": "markdown",
   "id": "d1824041",
   "metadata": {},
   "source": [
    "### Analyzing FBA Solutions"
   ]
  },
  {
   "cell_type": "code",
   "execution_count": 6,
   "id": "840ced76",
   "metadata": {},
   "outputs": [
    {
     "data": {
      "text/html": [
       "<h3>Objective</h3><p>1.0 BIOMASS_Ecoli_core_w_GAM = 0.8739215069684311</p><h4>Uptake</h4><table border=\"1\" class=\"dataframe\">\n",
       "  <thead>\n",
       "    <tr style=\"text-align: right;\">\n",
       "      <th>Metabolite</th>\n",
       "      <th>Reaction</th>\n",
       "      <th>Flux</th>\n",
       "      <th>C-Number</th>\n",
       "      <th>C-Flux</th>\n",
       "    </tr>\n",
       "  </thead>\n",
       "  <tbody>\n",
       "    <tr>\n",
       "      <td>glc__D_e</td>\n",
       "      <td>EX_glc__D_e</td>\n",
       "      <td>10</td>\n",
       "      <td>6</td>\n",
       "      <td>100.00%</td>\n",
       "    </tr>\n",
       "    <tr>\n",
       "      <td>nh4_e</td>\n",
       "      <td>EX_nh4_e</td>\n",
       "      <td>4.765</td>\n",
       "      <td>0</td>\n",
       "      <td>0.00%</td>\n",
       "    </tr>\n",
       "    <tr>\n",
       "      <td>o2_e</td>\n",
       "      <td>EX_o2_e</td>\n",
       "      <td>21.8</td>\n",
       "      <td>0</td>\n",
       "      <td>0.00%</td>\n",
       "    </tr>\n",
       "    <tr>\n",
       "      <td>pi_e</td>\n",
       "      <td>EX_pi_e</td>\n",
       "      <td>3.215</td>\n",
       "      <td>0</td>\n",
       "      <td>0.00%</td>\n",
       "    </tr>\n",
       "  </tbody>\n",
       "</table><h4>Secretion</h4><table border=\"1\" class=\"dataframe\">\n",
       "  <thead>\n",
       "    <tr style=\"text-align: right;\">\n",
       "      <th>Metabolite</th>\n",
       "      <th>Reaction</th>\n",
       "      <th>Flux</th>\n",
       "      <th>C-Number</th>\n",
       "      <th>C-Flux</th>\n",
       "    </tr>\n",
       "  </thead>\n",
       "  <tbody>\n",
       "    <tr>\n",
       "      <td>co2_e</td>\n",
       "      <td>EX_co2_e</td>\n",
       "      <td>-22.81</td>\n",
       "      <td>1</td>\n",
       "      <td>100.00%</td>\n",
       "    </tr>\n",
       "    <tr>\n",
       "      <td>h2o_e</td>\n",
       "      <td>EX_h2o_e</td>\n",
       "      <td>-29.18</td>\n",
       "      <td>0</td>\n",
       "      <td>0.00%</td>\n",
       "    </tr>\n",
       "    <tr>\n",
       "      <td>h_e</td>\n",
       "      <td>EX_h_e</td>\n",
       "      <td>-17.53</td>\n",
       "      <td>0</td>\n",
       "      <td>0.00%</td>\n",
       "    </tr>\n",
       "  </tbody>\n",
       "</table>"
      ],
      "text/plain": [
       "<cobra.summary.model_summary.ModelSummary at 0x231c40e1bc8>"
      ]
     },
     "execution_count": 6,
     "metadata": {},
     "output_type": "execute_result"
    }
   ],
   "source": [
    "# using summary methods - information on the input and output behavior of the model, along with the optimized objective\n",
    "\n",
    "model.summary()\n",
    "\n",
    "# C-Number ; C-Flux - C stands for carbon"
   ]
  },
  {
   "cell_type": "code",
   "execution_count": 7,
   "id": "0907a7ef",
   "metadata": {
    "scrolled": true
   },
   "outputs": [
    {
     "data": {
      "text/html": [
       "<h3>glc__D_e</h3><p>C6H12O6</p><h4>Producing Reactions</h4><table border=\"1\" class=\"dataframe\">\n",
       "  <thead>\n",
       "    <tr style=\"text-align: right;\">\n",
       "      <th>Percent</th>\n",
       "      <th>Flux</th>\n",
       "      <th>Reaction</th>\n",
       "      <th>Definition</th>\n",
       "    </tr>\n",
       "  </thead>\n",
       "  <tbody>\n",
       "    <tr>\n",
       "      <td>100.00%</td>\n",
       "      <td>10</td>\n",
       "      <td>EX_glc__D_e</td>\n",
       "      <td>glc__D_e &lt;=&gt;</td>\n",
       "    </tr>\n",
       "  </tbody>\n",
       "</table><h4>Consuming Reactions</h4><table border=\"1\" class=\"dataframe\">\n",
       "  <thead>\n",
       "    <tr style=\"text-align: right;\">\n",
       "      <th>Percent</th>\n",
       "      <th>Flux</th>\n",
       "      <th>Reaction</th>\n",
       "      <th>Definition</th>\n",
       "    </tr>\n",
       "  </thead>\n",
       "  <tbody>\n",
       "    <tr>\n",
       "      <td>100.00%</td>\n",
       "      <td>-10</td>\n",
       "      <td>GLCpts</td>\n",
       "      <td>glc__D_e + pep_c --&gt; g6p_c + pyr_c</td>\n",
       "    </tr>\n",
       "  </tbody>\n",
       "</table>"
      ],
      "text/plain": [
       "<cobra.summary.metabolite_summary.MetaboliteSummary at 0x231c27eb9c8>"
      ]
     },
     "execution_count": 7,
     "metadata": {},
     "output_type": "execute_result"
    }
   ],
   "source": [
    "# Inspecting the behaviour of individual metabolites using summary methods\n",
    "\n",
    "model.metabolites.glc__D_e.summary()"
   ]
  },
  {
   "cell_type": "code",
   "execution_count": 8,
   "id": "8d862ab6",
   "metadata": {
    "scrolled": true
   },
   "outputs": [
    {
     "data": {
      "text/html": [
       "<h3>atp_c</h3><p>C10H12N5O13P3</p><h4>Producing Reactions</h4><table border=\"1\" class=\"dataframe\">\n",
       "  <thead>\n",
       "    <tr style=\"text-align: right;\">\n",
       "      <th>Percent</th>\n",
       "      <th>Flux</th>\n",
       "      <th>Reaction</th>\n",
       "      <th>Definition</th>\n",
       "    </tr>\n",
       "  </thead>\n",
       "  <tbody>\n",
       "    <tr>\n",
       "      <td>66.58%</td>\n",
       "      <td>45.51</td>\n",
       "      <td>ATPS4r</td>\n",
       "      <td>adp_c + 4.0 h_e + pi_c &lt;=&gt; atp_c + h2o_c + 3.0 h_c</td>\n",
       "    </tr>\n",
       "    <tr>\n",
       "      <td>23.44%</td>\n",
       "      <td>16.02</td>\n",
       "      <td>PGK</td>\n",
       "      <td>3pg_c + atp_c &lt;=&gt; 13dpg_c + adp_c</td>\n",
       "    </tr>\n",
       "    <tr>\n",
       "      <td>2.57%</td>\n",
       "      <td>1.758</td>\n",
       "      <td>PYK</td>\n",
       "      <td>adp_c + h_c + pep_c --&gt; atp_c + pyr_c</td>\n",
       "    </tr>\n",
       "    <tr>\n",
       "      <td>7.41%</td>\n",
       "      <td>5.064</td>\n",
       "      <td>SUCOAS</td>\n",
       "      <td>atp_c + coa_c + succ_c &lt;=&gt; adp_c + pi_c + succoa_c</td>\n",
       "    </tr>\n",
       "  </tbody>\n",
       "</table><h4>Consuming Reactions</h4><table border=\"1\" class=\"dataframe\">\n",
       "  <thead>\n",
       "    <tr style=\"text-align: right;\">\n",
       "      <th>Percent</th>\n",
       "      <th>Flux</th>\n",
       "      <th>Reaction</th>\n",
       "      <th>Definition</th>\n",
       "    </tr>\n",
       "  </thead>\n",
       "  <tbody>\n",
       "    <tr>\n",
       "      <td>12.27%</td>\n",
       "      <td>-8.39</td>\n",
       "      <td>ATPM</td>\n",
       "      <td>atp_c + h2o_c --&gt; adp_c + h_c + pi_c</td>\n",
       "    </tr>\n",
       "    <tr>\n",
       "      <td>76.46%</td>\n",
       "      <td>-52.27</td>\n",
       "      <td>BIOMASS_Ecoli_core_w_GAM</td>\n",
       "      <td>1.496 3pg_c + 3.7478 accoa_c + 59.81 atp_c + 0.361 e4p_c + 0.0709 f6p_c + 0.129 g3p_c + 0.205 g6p_c + 0.2557 gln__L_c + 4.9414 glu__L_c + 59.81 h2o_c + 3.547 nad_c + 13.0279 nadph_c + 1.7867 oaa_c + 0.5191 pep_c + 2.8328 pyr_c + 0.8977 r5p_c --&gt; 59.81 adp_c + 4.1182 akg_c + 3.7478 coa_c + 59.81 h_c + 3.547 nadh_c + 13.0279 nadp_c + 59.81 pi_c</td>\n",
       "    </tr>\n",
       "    <tr>\n",
       "      <td>0.33%</td>\n",
       "      <td>-0.2235</td>\n",
       "      <td>GLNS</td>\n",
       "      <td>atp_c + glu__L_c + nh4_c --&gt; adp_c + gln__L_c + h_c + pi_c</td>\n",
       "    </tr>\n",
       "    <tr>\n",
       "      <td>10.94%</td>\n",
       "      <td>-7.477</td>\n",
       "      <td>PFK</td>\n",
       "      <td>atp_c + f6p_c --&gt; adp_c + fdp_c + h_c</td>\n",
       "    </tr>\n",
       "  </tbody>\n",
       "</table>"
      ],
      "text/plain": [
       "<cobra.summary.metabolite_summary.MetaboliteSummary at 0x231c4195448>"
      ]
     },
     "execution_count": 8,
     "metadata": {},
     "output_type": "execute_result"
    }
   ],
   "source": [
    "model.metabolites.atp_c.summary()"
   ]
  },
  {
   "cell_type": "markdown",
   "id": "1cc0942a",
   "metadata": {},
   "source": [
    "### Changing concentration of metabolites and analyzing the objective function"
   ]
  },
  {
   "cell_type": "code",
   "execution_count": 9,
   "id": "76ad1a6c",
   "metadata": {},
   "outputs": [],
   "source": [
    "# Obtaining an array of random input flux values for oxygen\n",
    "\n",
    "oxygen_range = np.linspace(0,60)"
   ]
  },
  {
   "cell_type": "code",
   "execution_count": 10,
   "id": "9fa574d6",
   "metadata": {},
   "outputs": [
    {
     "data": {
      "text/plain": [
       "array([ 0.        ,  1.2244898 ,  2.44897959,  3.67346939,  4.89795918,\n",
       "        6.12244898,  7.34693878,  8.57142857,  9.79591837, 11.02040816,\n",
       "       12.24489796, 13.46938776, 14.69387755, 15.91836735, 17.14285714,\n",
       "       18.36734694, 19.59183673, 20.81632653, 22.04081633, 23.26530612,\n",
       "       24.48979592, 25.71428571, 26.93877551, 28.16326531, 29.3877551 ,\n",
       "       30.6122449 , 31.83673469, 33.06122449, 34.28571429, 35.51020408,\n",
       "       36.73469388, 37.95918367, 39.18367347, 40.40816327, 41.63265306,\n",
       "       42.85714286, 44.08163265, 45.30612245, 46.53061224, 47.75510204,\n",
       "       48.97959184, 50.20408163, 51.42857143, 52.65306122, 53.87755102,\n",
       "       55.10204082, 56.32653061, 57.55102041, 58.7755102 , 60.        ])"
      ]
     },
     "execution_count": 10,
     "metadata": {},
     "output_type": "execute_result"
    }
   ],
   "source": [
    "oxygen_range"
   ]
  },
  {
   "cell_type": "code",
   "execution_count": 11,
   "id": "cdae1cfe",
   "metadata": {},
   "outputs": [],
   "source": [
    "biomass_flux = []\n",
    "original_upper_bound = model.reactions.EX_o2_e.lower_bound"
   ]
  },
  {
   "cell_type": "code",
   "execution_count": 12,
   "id": "9e4e73da",
   "metadata": {},
   "outputs": [
    {
     "data": {
      "text/plain": [
       "[0.21166294973531077,\n",
       " 0.25574103172933615,\n",
       " 0.2998191137233615,\n",
       " 0.34389719571738714,\n",
       " 0.38797527771141266,\n",
       " 0.4320533597054382,\n",
       " 0.47283501347154466,\n",
       " 0.5126268225056125,\n",
       " 0.5524186315396806,\n",
       " 0.5922104405737489,\n",
       " 0.6320022496078171,\n",
       " 0.6717940586418856,\n",
       " 0.7108100969559351,\n",
       " 0.7389186075081347,\n",
       " 0.7670271180603357,\n",
       " 0.7951356286125362,\n",
       " 0.8232441391647356,\n",
       " 0.8513526497169367,\n",
       " 0.8739215069684305,\n",
       " 0.873921506968431,\n",
       " 0.873921506968431,\n",
       " 0.873921506968431,\n",
       " 0.873921506968431,\n",
       " 0.873921506968431,\n",
       " 0.873921506968431,\n",
       " 0.873921506968431,\n",
       " 0.873921506968431,\n",
       " 0.873921506968431,\n",
       " 0.873921506968431,\n",
       " 0.873921506968431,\n",
       " 0.873921506968431,\n",
       " 0.873921506968431,\n",
       " 0.873921506968431,\n",
       " 0.873921506968431,\n",
       " 0.873921506968431,\n",
       " 0.873921506968431,\n",
       " 0.873921506968431,\n",
       " 0.873921506968431,\n",
       " 0.873921506968431,\n",
       " 0.873921506968431,\n",
       " 0.873921506968431,\n",
       " 0.873921506968431,\n",
       " 0.873921506968431,\n",
       " 0.873921506968431,\n",
       " 0.873921506968431,\n",
       " 0.873921506968431,\n",
       " 0.873921506968431,\n",
       " 0.873921506968431,\n",
       " 0.873921506968431,\n",
       " 0.873921506968431]"
      ]
     },
     "execution_count": 12,
     "metadata": {},
     "output_type": "execute_result"
    }
   ],
   "source": [
    "for x in oxygen_range:\n",
    "    model.reactions.get_by_id('EX_o2_e').lower_bound = -x\n",
    "    solution = model.optimize()\n",
    "    biomass_flux.append(solution.objective_value)\n",
    "\n",
    "model.reactions.EX_o2_e.lower_bound = original_upper_bound\n",
    "biomass_flux"
   ]
  },
  {
   "cell_type": "code",
   "execution_count": 14,
   "id": "88cad5fb",
   "metadata": {},
   "outputs": [
    {
     "data": {
      "text/plain": [
       "Text(0.5, 1.0, 'Change in Biomass vs Change in Oxygen concentration')"
      ]
     },
     "execution_count": 14,
     "metadata": {},
     "output_type": "execute_result"
    },
    {
     "data": {
      "image/png": "[encoded data removed]",
      "text/plain": [
       "<Figure size 640x480 with 1 Axes>"
      ]
     },
     "metadata": {},
     "output_type": "display_data"
    }
   ],
   "source": [
    "plt.plot(oxygen_range, biomass_flux, color = 'r')\n",
    "plt.xlabel(\"Oxygen range\")\n",
    "plt.ylabel(\"Change in Biomass\")\n",
    "plt.title(\"Change in Biomass vs Change in Oxygen concentration\")"
   ]
  },
  {
   "cell_type": "code",
   "execution_count": 17,
   "id": "96cc4dd6",
   "metadata": {},
   "outputs": [
    {
     "data": {
      "text/plain": [
       "array([ 0.        ,  1.2244898 ,  2.44897959,  3.67346939,  4.89795918,\n",
       "        6.12244898,  7.34693878,  8.57142857,  9.79591837, 11.02040816,\n",
       "       12.24489796, 13.46938776, 14.69387755, 15.91836735, 17.14285714,\n",
       "       18.36734694, 19.59183673, 20.81632653, 22.04081633, 23.26530612,\n",
       "       24.48979592, 25.71428571, 26.93877551, 28.16326531, 29.3877551 ,\n",
       "       30.6122449 , 31.83673469, 33.06122449, 34.28571429, 35.51020408,\n",
       "       36.73469388, 37.95918367, 39.18367347, 40.40816327, 41.63265306,\n",
       "       42.85714286, 44.08163265, 45.30612245, 46.53061224, 47.75510204,\n",
       "       48.97959184, 50.20408163, 51.42857143, 52.65306122, 53.87755102,\n",
       "       55.10204082, 56.32653061, 57.55102041, 58.7755102 , 60.        ])"
      ]
     },
     "execution_count": 17,
     "metadata": {},
     "output_type": "execute_result"
    }
   ],
   "source": [
    "# Obtaining a random array of input values for glucose\n",
    "\n",
    "glucose_array = np.linspace(0,60)\n",
    "glucose_array"
   ]
  },
  {
   "cell_type": "code",
   "execution_count": 16,
   "id": "397a7b66",
   "metadata": {},
   "outputs": [],
   "source": [
    "biomass_flux2 = []\n",
    "original_upper_bound2 = model.reactions.EX_glc__D_e.lower_bound"
   ]
  },
  {
   "cell_type": "code",
   "execution_count": 18,
   "id": "f362dcb5",
   "metadata": {},
   "outputs": [
    {
     "name": "stderr",
     "output_type": "stream",
     "text": [
      "C:\\Users\\User\\anaconda3\\envs\\Cobra\\lib\\site-packages\\cobra\\util\\solver.py:554: UserWarning: Solver status is 'infeasible'.\n",
      "  warn(f\"Solver status is '{status}'.\", UserWarning)\n"
     ]
    },
    {
     "data": {
      "text/plain": [
       "[-0.045312089038524975,\n",
       " 0.06925037512200578,\n",
       " 0.18175913638090382,\n",
       " 0.294001682962665,\n",
       " 0.4062442295444263,\n",
       " 0.5184867761261874,\n",
       " 0.6307293227079482,\n",
       " 0.7429718692897093,\n",
       " 0.8552144158714708,\n",
       " 0.9674569624532315,\n",
       " 1.0796995090349923,\n",
       " 1.1919420556167541,\n",
       " 1.3041846021985148,\n",
       " 1.416427148780276,\n",
       " 1.528669695362037,\n",
       " 1.6409122419437983,\n",
       " 1.7531547885255592,\n",
       " 1.86539733510732,\n",
       " 1.9776398816890821,\n",
       " 2.089882428270844,\n",
       " 2.202124974852605,\n",
       " 2.3143675214343653,\n",
       " 2.4266100680161253,\n",
       " 2.5388526145978885,\n",
       " 2.6409278215403584,\n",
       " 2.697144842644759,\n",
       " 2.7533618637491597,\n",
       " 2.8095788848535563,\n",
       " 2.8657959059579596,\n",
       " 2.9220129270623616,\n",
       " 2.978229948166766,\n",
       " 3.0344469692711638,\n",
       " 3.0906639903755657,\n",
       " 3.1468810114799615,\n",
       " 3.2030980325843634,\n",
       " 3.2516296776839746,\n",
       " 3.291421486718039,\n",
       " 3.3312132957521063,\n",
       " 3.371005104786175,\n",
       " 3.4107969138202434,\n",
       " 3.450588722854311,\n",
       " 3.4903805318883796,\n",
       " 3.5301723409224466,\n",
       " 3.569964149956516,\n",
       " 3.6097559589905845,\n",
       " 3.6495477680246506,\n",
       " 3.6893395770587207,\n",
       " 3.7291313860927886,\n",
       " 3.768923195126857,\n",
       " 3.808715004160925]"
      ]
     },
     "execution_count": 18,
     "metadata": {},
     "output_type": "execute_result"
    }
   ],
   "source": [
    "for y in glucose_array:\n",
    "    model.reactions.get_by_id('EX_glc__D_e').lower_bound = -y\n",
    "    solution2 = model.optimize()\n",
    "    biomass_flux2.append(solution2.objective_value)\n",
    "    \n",
    "model.reactions.EX_glc__D_e.lower_bound = original_upper_bound2\n",
    "biomass_flux2"
   ]
  },
  {
   "cell_type": "code",
   "execution_count": 19,
   "id": "95c9d45c",
   "metadata": {},
   "outputs": [
    {
     "data": {
      "text/plain": [
       "Text(0.5, 1.0, 'Change in Biomass vs Glucose concentration')"
      ]
     },
     "execution_count": 19,
     "metadata": {},
     "output_type": "execute_result"
    },
    {
     "data": {
      "image/png": "[encoded data removed]",
      "text/plain": [
       "<Figure size 640x480 with 1 Axes>"
      ]
     },
     "metadata": {},
     "output_type": "display_data"
    }
   ],
   "source": [
    "plt.plot(glucose_array, biomass_flux2, color='g')\n",
    "plt.xlabel('Glucose range')\n",
    "plt.ylabel('Change in Biomass')\n",
    "plt.title('Change in Biomass vs Glucose concentration')"
   ]
  },
  {
   "cell_type": "code",
   "execution_count": 31,
   "id": "15f4072e",
   "metadata": {},
   "outputs": [],
   "source": [
    "# Monitoring 2 reaction fluxes with respect to one range - Biomass production and Acetate production with respect to O2 input\n",
    "\n",
    "o2vec = np.linspace(0,60)\n",
    "vgro = []\n",
    "vacetate = []\n",
    "original_upper_bound = model.reactions.EX_o2_e.lower_bound"
   ]
  },
  {
   "cell_type": "code",
   "execution_count": 32,
   "id": "f84084c3",
   "metadata": {},
   "outputs": [],
   "source": [
    "for z in o2vec:\n",
    "    model.reactions.EX_o2_e.lower_bound = -z\n",
    "    solution3 = model.optimize()\n",
    "    vgro.append(solution3.objective_value)\n",
    "    vacetate.append(solution3.fluxes.EX_ac_e)\n",
    "    \n",
    "model.reactions.EX_o2_e.lower_bound = original_upper_bound"
   ]
  },
  {
   "cell_type": "code",
   "execution_count": 38,
   "id": "90dfe531",
   "metadata": {},
   "outputs": [
    {
     "data": {
      "text/plain": [
       "Text(0, 0.5, 'Acetate secretion')"
      ]
     },
     "execution_count": 38,
     "metadata": {},
     "output_type": "execute_result"
    },
    {
     "data": {
      "image/png": "[encoded data removed]",
      "text/plain": [
       "<Figure size 640x480 with 2 Axes>"
      ]
     },
     "metadata": {},
     "output_type": "display_data"
    }
   ],
   "source": [
    "plt.plot(o2vec,vgro,'b')\n",
    "plt.xlabel('Oxygen range')\n",
    "plt.ylabel('Change in Biomass')\n",
    "\n",
    "ax = plt.subplot(111)\n",
    "ax.plot(o2vec,vgro,'b')\n",
    "ax2 = plt.twinx(ax)\n",
    "ax2.plot(o2vec,vacetate,'r')\n",
    "\n",
    "ax.set_ylabel('Change in Biomass', color='b')\n",
    "ax2.set_ylabel('Acetate secretion', color='r')"
   ]
  },
  {
   "cell_type": "code",
   "execution_count": null,
   "id": "4666c30b",
   "metadata": {},
   "outputs": [],
   "source": []
  }
 ],
 "metadata": {
  "kernelspec": {
   "display_name": "Python 3 (ipykernel)",
   "language": "python",
   "name": "python3"
  },
  "language_info": {
   "codemirror_mode": {
    "name": "ipython",
    "version": 3
   },
   "file_extension": ".py",
   "mimetype": "text/x-python",
   "name": "python",
   "nbconvert_exporter": "python",
   "pygments_lexer": "ipython3",
   "version": "3.7.12"
  }
 },
 "nbformat": 4,
 "nbformat_minor": 5
}
