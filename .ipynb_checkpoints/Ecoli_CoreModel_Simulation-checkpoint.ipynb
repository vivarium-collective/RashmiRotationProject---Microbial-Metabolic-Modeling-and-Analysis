{
 "cells": [
  {
   "cell_type": "markdown",
   "id": "696b771a",
   "metadata": {},
   "source": [
    "### Loading the model"
   ]
  },
  {
   "cell_type": "code",
   "execution_count": 2,
   "id": "9529b4b7",
   "metadata": {},
   "outputs": [],
   "source": [
    "import cobra\n",
    "from cobra.io import read_sbml_model\n",
    "model = read_sbml_model('C:/Users/User/Downloads/e_coli_core.xml')"
   ]
  },
  {
   "cell_type": "markdown",
   "id": "ee9226bd",
   "metadata": {},
   "source": [
    "### Running the model with FBA"
   ]
  },
  {
   "cell_type": "code",
   "execution_count": 6,
   "id": "8e85e281",
   "metadata": {},
   "outputs": [
    {
     "data": {
      "text/latex": [
       "$\\displaystyle 1.0 \\cdot BIOMASS_{Ecoli core w GAM} - 1.0 \\cdot BIOMASS_{Ecoli core w GAM reverse 712e5}$"
      ],
      "text/plain": [
       "1.0*BIOMASS_Ecoli_core_w_GAM - 1.0*BIOMASS_Ecoli_core_w_GAM_reverse_712e5"
      ]
     },
     "execution_count": 6,
     "metadata": {},
     "output_type": "execute_result"
    }
   ],
   "source": [
    "# Understanding the objective expression\n",
    "\n",
    "model.objective.expression"
   ]
  },
  {
   "cell_type": "code",
   "execution_count": 7,
   "id": "08f1161f",
   "metadata": {},
   "outputs": [
    {
     "data": {
      "text/html": [
       "<strong><em>Optimal</em> solution with objective value 0.874</strong><br><div>\n",
       "<style scoped>\n",
       "    .dataframe tbody tr th:only-of-type {\n",
       "        vertical-align: middle;\n",
       "    }\n",
       "\n",
       "    .dataframe tbody tr th {\n",
       "        vertical-align: top;\n",
       "    }\n",
       "\n",
       "    .dataframe thead th {\n",
       "        text-align: right;\n",
       "    }\n",
       "</style>\n",
       "<table border=\"1\" class=\"dataframe\">\n",
       "  <thead>\n",
       "    <tr style=\"text-align: right;\">\n",
       "      <th></th>\n",
       "      <th>fluxes</th>\n",
       "      <th>reduced_costs</th>\n",
       "    </tr>\n",
       "  </thead>\n",
       "  <tbody>\n",
       "    <tr>\n",
       "      <th>PFK</th>\n",
       "      <td>7.477382</td>\n",
       "      <td>0.000000e+00</td>\n",
       "    </tr>\n",
       "    <tr>\n",
       "      <th>PFL</th>\n",
       "      <td>0.000000</td>\n",
       "      <td>-1.527746e-02</td>\n",
       "    </tr>\n",
       "    <tr>\n",
       "      <th>PGI</th>\n",
       "      <td>4.860861</td>\n",
       "      <td>0.000000e+00</td>\n",
       "    </tr>\n",
       "    <tr>\n",
       "      <th>PGK</th>\n",
       "      <td>-16.023526</td>\n",
       "      <td>-0.000000e+00</td>\n",
       "    </tr>\n",
       "    <tr>\n",
       "      <th>PGL</th>\n",
       "      <td>4.959985</td>\n",
       "      <td>5.854692e-18</td>\n",
       "    </tr>\n",
       "    <tr>\n",
       "      <th>...</th>\n",
       "      <td>...</td>\n",
       "      <td>...</td>\n",
       "    </tr>\n",
       "    <tr>\n",
       "      <th>NADH16</th>\n",
       "      <td>38.534610</td>\n",
       "      <td>8.673617e-19</td>\n",
       "    </tr>\n",
       "    <tr>\n",
       "      <th>NADTRHD</th>\n",
       "      <td>0.000000</td>\n",
       "      <td>-2.546243e-03</td>\n",
       "    </tr>\n",
       "    <tr>\n",
       "      <th>NH4t</th>\n",
       "      <td>4.765319</td>\n",
       "      <td>-3.665630e-17</td>\n",
       "    </tr>\n",
       "    <tr>\n",
       "      <th>O2t</th>\n",
       "      <td>21.799493</td>\n",
       "      <td>1.742080e-18</td>\n",
       "    </tr>\n",
       "    <tr>\n",
       "      <th>PDH</th>\n",
       "      <td>9.282533</td>\n",
       "      <td>-6.938894e-18</td>\n",
       "    </tr>\n",
       "  </tbody>\n",
       "</table>\n",
       "<p>95 rows × 2 columns</p>\n",
       "</div>"
      ],
      "text/plain": [
       "<Solution 0.874 at 0x22dd55a2148>"
      ]
     },
     "execution_count": 7,
     "metadata": {},
     "output_type": "execute_result"
    }
   ],
   "source": [
    "# Simulation using flux balance analysis\n",
    "\n",
    "model.optimize()\n",
    "\n",
    "# output is an optimal solution for the objective function - Gain in Biomass\n",
    "# Fluxes and reduced costs with respect to each reaction\n",
    "# Reduced cost - derivatives of the objective function with respect to a reaction - how much the change of a reaction will affect the objective function"
   ]
  },
  {
   "cell_type": "code",
   "execution_count": 9,
   "id": "1b2605ce",
   "metadata": {},
   "outputs": [
    {
     "name": "stdout",
     "output_type": "stream",
     "text": [
      "<Solution 0.874 at 0x22dd55ce208>\n"
     ]
    }
   ],
   "source": [
    "# Assigning the FBA solution to an object\n",
    "\n",
    "solution = model.optimize()\n",
    "print(solution)"
   ]
  },
  {
   "cell_type": "code",
   "execution_count": 14,
   "id": "2ce06cd8",
   "metadata": {},
   "outputs": [
    {
     "name": "stdout",
     "output_type": "stream",
     "text": [
      "0.873921506968431\n",
      "optimal\n",
      "PFK         7.477382\n",
      "PFL         0.000000\n",
      "PGI         4.860861\n",
      "PGK       -16.023526\n",
      "PGL         4.959985\n",
      "             ...    \n",
      "NADH16     38.534610\n",
      "NADTRHD     0.000000\n",
      "NH4t        4.765319\n",
      "O2t        21.799493\n",
      "PDH         9.282533\n",
      "Name: fluxes, Length: 95, dtype: float64\n",
      "glc__D_e   -0.091665\n",
      "gln__L_c   -0.075114\n",
      "gln__L_e   -0.070022\n",
      "glu__L_c   -0.070022\n",
      "glu__L_e   -0.068749\n",
      "              ...   \n",
      "fru_e      -0.091665\n",
      "fum_c      -0.048379\n",
      "fum_e      -0.045832\n",
      "g3p_c      -0.052198\n",
      "g6p_c      -0.098030\n",
      "Name: shadow_prices, Length: 72, dtype: float64\n"
     ]
    }
   ],
   "source": [
    "# Investigating the attributes of the solution object\n",
    "\n",
    "print(solution.objective_value) # The value of the optimal solution of the objective function\n",
    "print(solution.status) # Outcome of the linear programming optimization\n",
    "print(solution.fluxes) #  rate at which metabolites are converted from one form to another in a given reaction\n",
    "print(solution.shadow_prices) # derivatives of the objective function with respect to flux of a metabolite - value of an additional unit of a resource (or constraint) in the context of the objective function"
   ]
  },
  {
   "cell_type": "markdown",
   "id": "d1824041",
   "metadata": {},
   "source": [
    "### Analyzing FBA Solutions"
   ]
  },
  {
   "cell_type": "code",
   "execution_count": 18,
   "id": "840ced76",
   "metadata": {},
   "outputs": [
    {
     "data": {
      "text/html": [
       "<h3>Objective</h3><p>1.0 BIOMASS_Ecoli_core_w_GAM = 0.8739215069684311</p><h4>Uptake</h4><table border=\"1\" class=\"dataframe\">\n",
       "  <thead>\n",
       "    <tr style=\"text-align: right;\">\n",
       "      <th>Metabolite</th>\n",
       "      <th>Reaction</th>\n",
       "      <th>Flux</th>\n",
       "      <th>C-Number</th>\n",
       "      <th>C-Flux</th>\n",
       "    </tr>\n",
       "  </thead>\n",
       "  <tbody>\n",
       "    <tr>\n",
       "      <td>glc__D_e</td>\n",
       "      <td>EX_glc__D_e</td>\n",
       "      <td>10</td>\n",
       "      <td>6</td>\n",
       "      <td>100.00%</td>\n",
       "    </tr>\n",
       "    <tr>\n",
       "      <td>nh4_e</td>\n",
       "      <td>EX_nh4_e</td>\n",
       "      <td>4.765</td>\n",
       "      <td>0</td>\n",
       "      <td>0.00%</td>\n",
       "    </tr>\n",
       "    <tr>\n",
       "      <td>o2_e</td>\n",
       "      <td>EX_o2_e</td>\n",
       "      <td>21.8</td>\n",
       "      <td>0</td>\n",
       "      <td>0.00%</td>\n",
       "    </tr>\n",
       "    <tr>\n",
       "      <td>pi_e</td>\n",
       "      <td>EX_pi_e</td>\n",
       "      <td>3.215</td>\n",
       "      <td>0</td>\n",
       "      <td>0.00%</td>\n",
       "    </tr>\n",
       "  </tbody>\n",
       "</table><h4>Secretion</h4><table border=\"1\" class=\"dataframe\">\n",
       "  <thead>\n",
       "    <tr style=\"text-align: right;\">\n",
       "      <th>Metabolite</th>\n",
       "      <th>Reaction</th>\n",
       "      <th>Flux</th>\n",
       "      <th>C-Number</th>\n",
       "      <th>C-Flux</th>\n",
       "    </tr>\n",
       "  </thead>\n",
       "  <tbody>\n",
       "    <tr>\n",
       "      <td>co2_e</td>\n",
       "      <td>EX_co2_e</td>\n",
       "      <td>-22.81</td>\n",
       "      <td>1</td>\n",
       "      <td>100.00%</td>\n",
       "    </tr>\n",
       "    <tr>\n",
       "      <td>h2o_e</td>\n",
       "      <td>EX_h2o_e</td>\n",
       "      <td>-29.18</td>\n",
       "      <td>0</td>\n",
       "      <td>0.00%</td>\n",
       "    </tr>\n",
       "    <tr>\n",
       "      <td>h_e</td>\n",
       "      <td>EX_h_e</td>\n",
       "      <td>-17.53</td>\n",
       "      <td>0</td>\n",
       "      <td>0.00%</td>\n",
       "    </tr>\n",
       "  </tbody>\n",
       "</table>"
      ],
      "text/plain": [
       "<cobra.summary.model_summary.ModelSummary at 0x22dd55eb2c8>"
      ]
     },
     "execution_count": 18,
     "metadata": {},
     "output_type": "execute_result"
    }
   ],
   "source": [
    "# using summary methods - information on the input and output behavior of the model, along with the optimized objective\n",
    "\n",
    "model.summary()\n",
    "\n",
    "# C-Number ; C-Flux - C stands for carbon"
   ]
  },
  {
   "cell_type": "code",
   "execution_count": 23,
   "id": "0907a7ef",
   "metadata": {
    "scrolled": true
   },
   "outputs": [
    {
     "data": {
      "text/html": [
       "<h3>glc__D_e</h3><p>C6H12O6</p><h4>Producing Reactions</h4><table border=\"1\" class=\"dataframe\">\n",
       "  <thead>\n",
       "    <tr style=\"text-align: right;\">\n",
       "      <th>Percent</th>\n",
       "      <th>Flux</th>\n",
       "      <th>Reaction</th>\n",
       "      <th>Definition</th>\n",
       "    </tr>\n",
       "  </thead>\n",
       "  <tbody>\n",
       "    <tr>\n",
       "      <td>100.00%</td>\n",
       "      <td>10</td>\n",
       "      <td>EX_glc__D_e</td>\n",
       "      <td>glc__D_e &lt;=&gt;</td>\n",
       "    </tr>\n",
       "  </tbody>\n",
       "</table><h4>Consuming Reactions</h4><table border=\"1\" class=\"dataframe\">\n",
       "  <thead>\n",
       "    <tr style=\"text-align: right;\">\n",
       "      <th>Percent</th>\n",
       "      <th>Flux</th>\n",
       "      <th>Reaction</th>\n",
       "      <th>Definition</th>\n",
       "    </tr>\n",
       "  </thead>\n",
       "  <tbody>\n",
       "    <tr>\n",
       "      <td>100.00%</td>\n",
       "      <td>-10</td>\n",
       "      <td>GLCpts</td>\n",
       "      <td>glc__D_e + pep_c --&gt; g6p_c + pyr_c</td>\n",
       "    </tr>\n",
       "  </tbody>\n",
       "</table>"
      ],
      "text/plain": [
       "<cobra.summary.metabolite_summary.MetaboliteSummary at 0x22dd571ad48>"
      ]
     },
     "execution_count": 23,
     "metadata": {},
     "output_type": "execute_result"
    }
   ],
   "source": [
    "# Inspecting the behaviour of individual metabolites using summary methods\n",
    "\n",
    "model.metabolites.glc__D_e.summary()"
   ]
  },
  {
   "cell_type": "code",
   "execution_count": 24,
   "id": "8d862ab6",
   "metadata": {},
   "outputs": [
    {
     "data": {
      "text/html": [
       "<h3>atp_c</h3><p>C10H12N5O13P3</p><h4>Producing Reactions</h4><table border=\"1\" class=\"dataframe\">\n",
       "  <thead>\n",
       "    <tr style=\"text-align: right;\">\n",
       "      <th>Percent</th>\n",
       "      <th>Flux</th>\n",
       "      <th>Reaction</th>\n",
       "      <th>Definition</th>\n",
       "    </tr>\n",
       "  </thead>\n",
       "  <tbody>\n",
       "    <tr>\n",
       "      <td>66.58%</td>\n",
       "      <td>45.51</td>\n",
       "      <td>ATPS4r</td>\n",
       "      <td>adp_c + 4.0 h_e + pi_c &lt;=&gt; atp_c + h2o_c + 3.0 h_c</td>\n",
       "    </tr>\n",
       "    <tr>\n",
       "      <td>23.44%</td>\n",
       "      <td>16.02</td>\n",
       "      <td>PGK</td>\n",
       "      <td>3pg_c + atp_c &lt;=&gt; 13dpg_c + adp_c</td>\n",
       "    </tr>\n",
       "    <tr>\n",
       "      <td>2.57%</td>\n",
       "      <td>1.758</td>\n",
       "      <td>PYK</td>\n",
       "      <td>adp_c + h_c + pep_c --&gt; atp_c + pyr_c</td>\n",
       "    </tr>\n",
       "    <tr>\n",
       "      <td>7.41%</td>\n",
       "      <td>5.064</td>\n",
       "      <td>SUCOAS</td>\n",
       "      <td>atp_c + coa_c + succ_c &lt;=&gt; adp_c + pi_c + succoa_c</td>\n",
       "    </tr>\n",
       "  </tbody>\n",
       "</table><h4>Consuming Reactions</h4><table border=\"1\" class=\"dataframe\">\n",
       "  <thead>\n",
       "    <tr style=\"text-align: right;\">\n",
       "      <th>Percent</th>\n",
       "      <th>Flux</th>\n",
       "      <th>Reaction</th>\n",
       "      <th>Definition</th>\n",
       "    </tr>\n",
       "  </thead>\n",
       "  <tbody>\n",
       "    <tr>\n",
       "      <td>12.27%</td>\n",
       "      <td>-8.39</td>\n",
       "      <td>ATPM</td>\n",
       "      <td>atp_c + h2o_c --&gt; adp_c + h_c + pi_c</td>\n",
       "    </tr>\n",
       "    <tr>\n",
       "      <td>76.46%</td>\n",
       "      <td>-52.27</td>\n",
       "      <td>BIOMASS_Ecoli_core_w_GAM</td>\n",
       "      <td>1.496 3pg_c + 3.7478 accoa_c + 59.81 atp_c + 0.361 e4p_c + 0.0709 f6p_c + 0.129 g3p_c + 0.205 g6p_c + 0.2557 gln__L_c + 4.9414 glu__L_c + 59.81 h2o_c + 3.547 nad_c + 13.0279 nadph_c + 1.7867 oaa_c + 0.5191 pep_c + 2.8328 pyr_c + 0.8977 r5p_c --&gt; 59.81 adp_c + 4.1182 akg_c + 3.7478 coa_c + 59.81 h_c + 3.547 nadh_c + 13.0279 nadp_c + 59.81 pi_c</td>\n",
       "    </tr>\n",
       "    <tr>\n",
       "      <td>0.33%</td>\n",
       "      <td>-0.2235</td>\n",
       "      <td>GLNS</td>\n",
       "      <td>atp_c + glu__L_c + nh4_c --&gt; adp_c + gln__L_c + h_c + pi_c</td>\n",
       "    </tr>\n",
       "    <tr>\n",
       "      <td>10.94%</td>\n",
       "      <td>-7.477</td>\n",
       "      <td>PFK</td>\n",
       "      <td>atp_c + f6p_c --&gt; adp_c + fdp_c + h_c</td>\n",
       "    </tr>\n",
       "  </tbody>\n",
       "</table>"
      ],
      "text/plain": [
       "<cobra.summary.metabolite_summary.MetaboliteSummary at 0x22dd5741d08>"
      ]
     },
     "execution_count": 24,
     "metadata": {},
     "output_type": "execute_result"
    }
   ],
   "source": [
    "model.metabolites.atp_c.summary()"
   ]
  },
  {
   "cell_type": "markdown",
   "id": "bfc1ab13",
   "metadata": {},
   "source": [
    "### Modifying the bounds of a reaction"
   ]
  },
  {
   "cell_type": "code",
   "execution_count": 4,
   "id": "6e29424b",
   "metadata": {},
   "outputs": [
    {
     "name": "stdout",
     "output_type": "stream",
     "text": [
      "PFK\n",
      "PFL\n",
      "PGI\n",
      "PGK\n",
      "PGL\n",
      "ACALD\n",
      "AKGt2r\n",
      "PGM\n",
      "PIt2r\n",
      "ALCD2x\n",
      "ACALDt\n",
      "ACKr\n",
      "PPC\n",
      "ACONTa\n",
      "ACONTb\n",
      "ATPM\n",
      "PPCK\n",
      "ACt2r\n",
      "PPS\n",
      "ADK1\n",
      "AKGDH\n",
      "ATPS4r\n",
      "PTAr\n",
      "PYK\n",
      "BIOMASS_Ecoli_core_w_GAM\n",
      "PYRt2\n",
      "CO2t\n",
      "RPE\n",
      "CS\n",
      "RPI\n",
      "SUCCt2_2\n",
      "CYTBD\n",
      "D_LACt2\n",
      "ENO\n",
      "SUCCt3\n",
      "ETOHt2r\n",
      "SUCDi\n",
      "SUCOAS\n",
      "TALA\n",
      "THD2\n",
      "TKT1\n",
      "TKT2\n",
      "TPI\n",
      "EX_ac_e\n",
      "EX_acald_e\n",
      "EX_akg_e\n",
      "EX_co2_e\n",
      "EX_etoh_e\n",
      "EX_for_e\n",
      "EX_fru_e\n",
      "EX_fum_e\n",
      "EX_glc__D_e\n",
      "EX_gln__L_e\n",
      "EX_glu__L_e\n",
      "EX_h_e\n",
      "EX_h2o_e\n",
      "EX_lac__D_e\n",
      "EX_mal__L_e\n",
      "EX_nh4_e\n",
      "EX_o2_e\n",
      "EX_pi_e\n",
      "EX_pyr_e\n",
      "EX_succ_e\n",
      "FBA\n",
      "FBP\n",
      "FORt2\n",
      "FORt\n",
      "FRD7\n",
      "FRUpts2\n",
      "FUM\n",
      "FUMt2_2\n",
      "G6PDH2r\n",
      "GAPD\n",
      "GLCpts\n",
      "GLNS\n",
      "GLNabc\n",
      "GLUDy\n",
      "GLUN\n",
      "GLUSy\n",
      "GLUt2r\n",
      "GND\n",
      "H2Ot\n",
      "ICDHyr\n",
      "ICL\n",
      "LDH_D\n",
      "MALS\n",
      "MALt2_2\n",
      "MDH\n",
      "ME1\n",
      "ME2\n",
      "NADH16\n",
      "NADTRHD\n",
      "NH4t\n",
      "O2t\n",
      "PDH\n"
     ]
    }
   ],
   "source": [
    "#list of reactions by ID\n",
    "\n",
    "for i in model.reactions:\n",
    "    print(i.id)"
   ]
  },
  {
   "cell_type": "code",
   "execution_count": 6,
   "id": "e17a49f1",
   "metadata": {},
   "outputs": [
    {
     "data": {
      "text/html": [
       "\n",
       "        <table>\n",
       "            <tr>\n",
       "                <td><strong>Reaction identifier</strong></td><td>EX_glc__D_e</td>\n",
       "            </tr><tr>\n",
       "                <td><strong>Name</strong></td><td>D-Glucose exchange</td>\n",
       "            </tr><tr>\n",
       "                <td><strong>Memory address</strong></td>\n",
       "                <td>0x1f04fb61b48</td>\n",
       "            </tr><tr>\n",
       "                <td><strong>Stoichiometry</strong></td>\n",
       "                <td>\n",
       "                    <p style='text-align:right'>glc__D_e <=></p>\n",
       "                    <p style='text-align:right'>D-Glucose <=></p>\n",
       "                </td>\n",
       "            </tr><tr>\n",
       "                <td><strong>GPR</strong></td><td></td>\n",
       "            </tr><tr>\n",
       "                <td><strong>Lower bound</strong></td><td>-10.0</td>\n",
       "            </tr><tr>\n",
       "                <td><strong>Upper bound</strong></td><td>1000.0</td>\n",
       "            </tr>\n",
       "        </table>\n",
       "        "
      ],
      "text/plain": [
       "<Reaction EX_glc__D_e at 0x1f04fb61b48>"
      ]
     },
     "execution_count": 6,
     "metadata": {},
     "output_type": "execute_result"
    }
   ],
   "source": [
    "# choosing a reaction by ID and storing in a variable\n",
    "\n",
    "glucoseE = model.reactions.EX_glc__D_e\n",
    "glucoseE"
   ]
  },
  {
   "cell_type": "code",
   "execution_count": null,
   "id": "00d83f29",
   "metadata": {},
   "outputs": [],
   "source": []
  }
 ],
 "metadata": {
  "kernelspec": {
   "display_name": "Python 3 (ipykernel)",
   "language": "python",
   "name": "python3"
  },
  "language_info": {
   "codemirror_mode": {
    "name": "ipython",
    "version": 3
   },
   "file_extension": ".py",
   "mimetype": "text/x-python",
   "name": "python",
   "nbconvert_exporter": "python",
   "pygments_lexer": "ipython3",
   "version": "3.7.12"
  }
 },
 "nbformat": 4,
 "nbformat_minor": 5
}
