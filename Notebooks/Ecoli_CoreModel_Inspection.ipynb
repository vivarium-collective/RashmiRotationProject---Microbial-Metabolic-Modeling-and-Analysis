{
 "cells": [
  {
   "cell_type": "markdown",
   "id": "f7ba9862",
   "metadata": {},
   "source": [
    "# Exploring *E. coli* Genome-Scale Metabolic Model\n",
    "\n",
    "This notebook provides a comprehensive workflow for inspecting the *Escherichia coli* genome-scale metabolic model(*E_coli_core*). GSMMs are detailed reconstructions of metabolic networks that serve as powerful tools for understanding cellular metabolism, predicting phenotypic behaviors, and exploring metabolic engineering strategies.\n",
    "\n",
    "In this workflow, we will:\n",
    "\n",
    "Load and examine the *E. coli* metabolic model: Explore its structure, including reactions, metabolites, and genes."
   ]
  },
  {
   "cell_type": "markdown",
   "id": "f8f63fca",
   "metadata": {},
   "source": [
    "#### Loading and Reading the Model"
   ]
  },
  {
   "cell_type": "code",
   "execution_count": 2,
   "id": "c50115c3",
   "metadata": {},
   "outputs": [],
   "source": [
    "# Importing the COBRApy library, which is widely used for working with genome-scale metabolic models.\n",
    "import cobra\n",
    "\n",
    "# Importing the function for reading SBML (Systems Biology Markup Language) files.\n",
    "# SBML is a standard format for representing metabolic models.\n",
    "from cobra.io import read_sbml_model\n",
    "\n",
    "# Loading the E. coli genome-scale metabolic model from an SBML file.\n",
    "# Provide the file path to the SBML file ('e_coli_core.xml') containing the metabolic model.\n",
    "model = read_sbml_model('C:/Users/User/Downloads/e_coli_core.xml')\n",
    "\n",
    "# The 'model' object now contains the metabolic model, which can be analyzed and inspected."
   ]
  },
  {
   "cell_type": "markdown",
   "id": "0c45c37c",
   "metadata": {},
   "source": [
    "#### Reactions, Metabolites, and Genes attributes\n",
    "\n",
    "The reactions, metabolites, and genes attributes of the cobrapy model are a special type of list called a <mark>cobra.DictList</mark>, and each one is made up of <mark>cobra.Reaction</mark>, <mark>cobra.Metabolite</mark> and <mark>cobra.Gene</mark> objects respectively."
   ]
  },
  {
   "cell_type": "code",
   "execution_count": 3,
   "id": "52eec84f",
   "metadata": {},
   "outputs": [
    {
     "name": "stdout",
     "output_type": "stream",
     "text": [
      "95\n",
      "72\n",
      "137\n"
     ]
    }
   ],
   "source": [
    "# Investigating the length of model attributes\n",
    "\n",
    "print(len(model.reactions))\n",
    "print(len(model.metabolites))\n",
    "print(len(model.genes))"
   ]
  },
  {
   "cell_type": "code",
   "execution_count": 4,
   "id": "d09021ea",
   "metadata": {},
   "outputs": [
    {
     "data": {
      "text/html": [
       "\n",
       "        <table>\n",
       "            <tr>\n",
       "                <td><strong>Name</strong></td>\n",
       "                <td>e_coli_core</td>\n",
       "            </tr><tr>\n",
       "                <td><strong>Memory address</strong></td>\n",
       "                <td>21d16aa68c8</td>\n",
       "            </tr><tr>\n",
       "                <td><strong>Number of metabolites</strong></td>\n",
       "                <td>72</td>\n",
       "            </tr><tr>\n",
       "                <td><strong>Number of reactions</strong></td>\n",
       "                <td>95</td>\n",
       "            </tr><tr>\n",
       "                <td><strong>Number of genes</strong></td>\n",
       "                <td>137</td>\n",
       "            </tr><tr>\n",
       "                <td><strong>Number of groups</strong></td>\n",
       "                <td>0</td>\n",
       "            </tr><tr>\n",
       "                <td><strong>Objective expression</strong></td>\n",
       "                <td>1.0*BIOMASS_Ecoli_core_w_GAM - 1.0*BIOMASS_Ecoli_core_w_GAM_reverse_712e5</td>\n",
       "            </tr><tr>\n",
       "                <td><strong>Compartments</strong></td>\n",
       "                <td>extracellular space, cytosol</td>\n",
       "            </tr>\n",
       "          </table>"
      ],
      "text/plain": [
       "<Model e_coli_core at 0x21d16aa68c8>"
      ]
     },
     "execution_count": 4,
     "metadata": {},
     "output_type": "execute_result"
    }
   ],
   "source": [
    "# Investigating model properties\n",
    "\n",
    "model"
   ]
  },
  {
   "cell_type": "code",
   "execution_count": 5,
   "id": "688f73bb",
   "metadata": {},
   "outputs": [
    {
     "data": {
      "text/plain": [
       "[<Reaction PFK at 0x21d25693b48>,\n",
       " <Reaction PFL at 0x21d25693b08>,\n",
       " <Reaction PGI at 0x21d25697f08>,\n",
       " <Reaction PGK at 0x21d256a3e08>,\n",
       " <Reaction PGL at 0x21d256a3e88>,\n",
       " <Reaction ACALD at 0x21d256a30c8>,\n",
       " <Reaction AKGt2r at 0x21d256a8548>,\n",
       " <Reaction PGM at 0x21d256a3448>,\n",
       " <Reaction PIt2r at 0x21d256aa888>,\n",
       " <Reaction ALCD2x at 0x21d256b3f88>,\n",
       " <Reaction ACALDt at 0x21d256b3f48>,\n",
       " <Reaction ACKr at 0x21d256bb788>,\n",
       " <Reaction PPC at 0x21d256bb808>,\n",
       " <Reaction ACONTa at 0x21d256bef88>,\n",
       " <Reaction ACONTb at 0x21d256bb748>,\n",
       " <Reaction ATPM at 0x21d256bef48>,\n",
       " <Reaction PPCK at 0x21d256c7048>,\n",
       " <Reaction ACt2r at 0x21d256c5e08>,\n",
       " <Reaction PPS at 0x21d256c52c8>,\n",
       " <Reaction ADK1 at 0x21d256cff08>,\n",
       " <Reaction AKGDH at 0x21d256cfe08>,\n",
       " <Reaction ATPS4r at 0x21d256d5dc8>,\n",
       " <Reaction PTAr at 0x21d256dbdc8>,\n",
       " <Reaction PYK at 0x21d256e56c8>,\n",
       " <Reaction BIOMASS_Ecoli_core_w_GAM at 0x21d256e24c8>,\n",
       " <Reaction PYRt2 at 0x21d256e2548>,\n",
       " <Reaction CO2t at 0x21d256d5c88>,\n",
       " <Reaction RPE at 0x21d256e9488>,\n",
       " <Reaction CS at 0x21d256e5588>,\n",
       " <Reaction RPI at 0x21d256e9388>,\n",
       " <Reaction SUCCt2_2 at 0x21d256f70c8>,\n",
       " <Reaction CYTBD at 0x21d257020c8>,\n",
       " <Reaction D_LACt2 at 0x21d25702048>,\n",
       " <Reaction ENO at 0x21d25708788>,\n",
       " <Reaction SUCCt3 at 0x21d257083c8>,\n",
       " <Reaction ETOHt2r at 0x21d25706348>,\n",
       " <Reaction SUCDi at 0x21d25706fc8>,\n",
       " <Reaction SUCOAS at 0x21d2570c788>,\n",
       " <Reaction TALA at 0x21d25712688>,\n",
       " <Reaction THD2 at 0x21d25712608>,\n",
       " <Reaction TKT1 at 0x21d2570a0c8>,\n",
       " <Reaction TKT2 at 0x21d25715ec8>,\n",
       " <Reaction TPI at 0x21d2571ab48>,\n",
       " <Reaction EX_ac_e at 0x21d25720588>,\n",
       " <Reaction EX_acald_e at 0x21d2570c708>,\n",
       " <Reaction EX_akg_e at 0x21d257221c8>,\n",
       " <Reaction EX_co2_e at 0x21d257246c8>,\n",
       " <Reaction EX_etoh_e at 0x21d25727308>,\n",
       " <Reaction EX_for_e at 0x21d257278c8>,\n",
       " <Reaction EX_fru_e at 0x21d25729d08>,\n",
       " <Reaction EX_fum_e at 0x21d2572b3c8>,\n",
       " <Reaction EX_glc__D_e at 0x21d2572bc48>,\n",
       " <Reaction EX_gln__L_e at 0x21d2572f608>,\n",
       " <Reaction EX_glu__L_e at 0x21d2572fa48>,\n",
       " <Reaction EX_h_e at 0x21d25731048>,\n",
       " <Reaction EX_h2o_e at 0x21d257318c8>,\n",
       " <Reaction EX_lac__D_e at 0x21d257353c8>,\n",
       " <Reaction EX_mal__L_e at 0x21d257384c8>,\n",
       " <Reaction EX_nh4_e at 0x21d2573a988>,\n",
       " <Reaction EX_o2_e at 0x21d2573ae48>,\n",
       " <Reaction EX_pi_e at 0x21d2573c3c8>,\n",
       " <Reaction EX_pyr_e at 0x21d2573f0c8>,\n",
       " <Reaction EX_succ_e at 0x21d2573f608>,\n",
       " <Reaction FBA at 0x21d2573fe88>,\n",
       " <Reaction FBP at 0x21d257424c8>,\n",
       " <Reaction FORt2 at 0x21d25744888>,\n",
       " <Reaction FORt at 0x21d25744848>,\n",
       " <Reaction FRD7 at 0x21d257497c8>,\n",
       " <Reaction FRUpts2 at 0x21d2574c588>,\n",
       " <Reaction FUM at 0x21d25751208>,\n",
       " <Reaction FUMt2_2 at 0x21d257560c8>,\n",
       " <Reaction G6PDH2r at 0x21d2575a808>,\n",
       " <Reaction GAPD at 0x21d25751288>,\n",
       " <Reaction GLCpts at 0x21d2575c288>,\n",
       " <Reaction GLNS at 0x21d2575f188>,\n",
       " <Reaction GLNabc at 0x21d257669c8>,\n",
       " <Reaction GLUDy at 0x21d25763e08>,\n",
       " <Reaction GLUN at 0x21d25771948>,\n",
       " <Reaction GLUSy at 0x21d25766888>,\n",
       " <Reaction GLUt2r at 0x21d25778988>,\n",
       " <Reaction GND at 0x21d25771908>,\n",
       " <Reaction H2Ot at 0x21d25763c08>,\n",
       " <Reaction ICDHyr at 0x21d2577dd48>,\n",
       " <Reaction ICL at 0x21d25778948>,\n",
       " <Reaction LDH_D at 0x21d25785188>,\n",
       " <Reaction MALS at 0x21d2578db48>,\n",
       " <Reaction MALt2_2 at 0x21d25788b08>,\n",
       " <Reaction MDH at 0x21d257936c8>,\n",
       " <Reaction ME1 at 0x21d2578f5c8>,\n",
       " <Reaction ME2 at 0x21d25797708>,\n",
       " <Reaction NADH16 at 0x21d2579d188>,\n",
       " <Reaction NADTRHD at 0x21d257a0188>,\n",
       " <Reaction NH4t at 0x21d257a4a08>,\n",
       " <Reaction O2t at 0x21d257ab848>,\n",
       " <Reaction PDH at 0x21d257ab708>]"
      ]
     },
     "execution_count": 5,
     "metadata": {},
     "output_type": "execute_result"
    }
   ],
   "source": [
    "# List of reactions\n",
    "\n",
    "model.reactions"
   ]
  },
  {
   "cell_type": "code",
   "execution_count": 6,
   "id": "23c603aa",
   "metadata": {},
   "outputs": [
    {
     "data": {
      "text/plain": [
       "[<Metabolite glc__D_e at 0x21d2460e108>,\n",
       " <Metabolite gln__L_c at 0x21d2460e0c8>,\n",
       " <Metabolite gln__L_e at 0x21d2460ea08>,\n",
       " <Metabolite glu__L_c at 0x21d24610908>,\n",
       " <Metabolite glu__L_e at 0x21d2461d588>,\n",
       " <Metabolite glx_c at 0x21d2461d7c8>,\n",
       " <Metabolite h2o_c at 0x21d2461f308>,\n",
       " <Metabolite h2o_e at 0x21d2461f408>,\n",
       " <Metabolite h_c at 0x21d2461fc88>,\n",
       " <Metabolite h_e at 0x21d24621f08>,\n",
       " <Metabolite icit_c at 0x21d2461e5c8>,\n",
       " <Metabolite lac__D_c at 0x21d24623208>,\n",
       " <Metabolite lac__D_e at 0x21d24625848>,\n",
       " <Metabolite mal__L_c at 0x21d24625f08>,\n",
       " <Metabolite mal__L_e at 0x21d24626748>,\n",
       " <Metabolite nad_c at 0x21d24626f48>,\n",
       " <Metabolite nadh_c at 0x21d24627748>,\n",
       " <Metabolite nadp_c at 0x21d24627ec8>,\n",
       " <Metabolite nadph_c at 0x21d2462a888>,\n",
       " <Metabolite nh4_c at 0x21d2462b0c8>,\n",
       " <Metabolite 13dpg_c at 0x21d2462bac8>,\n",
       " <Metabolite nh4_e at 0x21d2462e348>,\n",
       " <Metabolite o2_c at 0x21d2462e548>,\n",
       " <Metabolite 2pg_c at 0x21d2462da08>,\n",
       " <Metabolite o2_e at 0x21d2462dc48>,\n",
       " <Metabolite 3pg_c at 0x21d24630808>,\n",
       " <Metabolite oaa_c at 0x21d246330c8>,\n",
       " <Metabolite pep_c at 0x21d24633c48>,\n",
       " <Metabolite 6pgc_c at 0x21d24634448>,\n",
       " <Metabolite pi_c at 0x21d24634d88>,\n",
       " <Metabolite 6pgl_c at 0x21d24635548>,\n",
       " <Metabolite pi_e at 0x21d24638a88>,\n",
       " <Metabolite ac_c at 0x21d24638b88>,\n",
       " <Metabolite pyr_c at 0x21d24639308>,\n",
       " <Metabolite pyr_e at 0x21d2463a148>,\n",
       " <Metabolite q8_c at 0x21d2463ac08>,\n",
       " <Metabolite q8h2_c at 0x21d2463e5c8>,\n",
       " <Metabolite r5p_c at 0x21d2463ef48>,\n",
       " <Metabolite ru5p__D_c at 0x21d2463f408>,\n",
       " <Metabolite ac_e at 0x21d2463f848>,\n",
       " <Metabolite acald_c at 0x21d2463fdc8>,\n",
       " <Metabolite s7p_c at 0x21d256116c8>,\n",
       " <Metabolite acald_e at 0x21d256121c8>,\n",
       " <Metabolite accoa_c at 0x21d256129c8>,\n",
       " <Metabolite succ_c at 0x21d25614208>,\n",
       " <Metabolite succ_e at 0x21d25614a48>,\n",
       " <Metabolite succoa_c at 0x21d25615488>,\n",
       " <Metabolite acon_C_c at 0x21d25615f88>,\n",
       " <Metabolite xu5p__D_c at 0x21d25616ac8>,\n",
       " <Metabolite actp_c at 0x21d256192c8>,\n",
       " <Metabolite adp_c at 0x21d256199c8>,\n",
       " <Metabolite akg_c at 0x21d2561a108>,\n",
       " <Metabolite akg_e at 0x21d2561a748>,\n",
       " <Metabolite amp_c at 0x21d2561b1c8>,\n",
       " <Metabolite atp_c at 0x21d2561bbc8>,\n",
       " <Metabolite cit_c at 0x21d25620108>,\n",
       " <Metabolite co2_c at 0x21d25620208>,\n",
       " <Metabolite co2_e at 0x21d25620d08>,\n",
       " <Metabolite coa_c at 0x21d25621848>,\n",
       " <Metabolite dhap_c at 0x21d25622308>,\n",
       " <Metabolite e4p_c at 0x21d25623808>,\n",
       " <Metabolite etoh_c at 0x21d25623908>,\n",
       " <Metabolite etoh_e at 0x21d25625148>,\n",
       " <Metabolite f6p_c at 0x21d25625808>,\n",
       " <Metabolite fdp_c at 0x21d25626288>,\n",
       " <Metabolite for_c at 0x21d25626c88>,\n",
       " <Metabolite for_e at 0x21d25628308>,\n",
       " <Metabolite fru_e at 0x21d2562a188>,\n",
       " <Metabolite fum_c at 0x21d2562a2c8>,\n",
       " <Metabolite fum_e at 0x21d2562ad88>,\n",
       " <Metabolite g3p_c at 0x21d2562ba88>,\n",
       " <Metabolite g6p_c at 0x21d2562c508>]"
      ]
     },
     "execution_count": 6,
     "metadata": {},
     "output_type": "execute_result"
    }
   ],
   "source": [
    "# List of metabolites\n",
    "\n",
    "model.metabolites"
   ]
  },
  {
   "cell_type": "code",
   "execution_count": 7,
   "id": "de06f532",
   "metadata": {},
   "outputs": [
    {
     "data": {
      "text/plain": [
       "[<Gene b1241 at 0x21d25637508>,\n",
       " <Gene b0351 at 0x21d25637548>,\n",
       " <Gene s0001 at 0x21d25637648>,\n",
       " <Gene b1849 at 0x21d25637bc8>,\n",
       " <Gene b3115 at 0x21d256400c8>,\n",
       " <Gene b2296 at 0x21d25640208>,\n",
       " <Gene b1276 at 0x21d256406c8>,\n",
       " <Gene b0118 at 0x21d25640c88>,\n",
       " <Gene b0474 at 0x21d256411c8>,\n",
       " <Gene b0116 at 0x21d25641708>,\n",
       " <Gene b0727 at 0x21d25640708>,\n",
       " <Gene b0726 at 0x21d25645208>,\n",
       " <Gene b2587 at 0x21d256457c8>,\n",
       " <Gene b0356 at 0x21d25645d08>,\n",
       " <Gene b1478 at 0x21d256462c8>,\n",
       " <Gene b3734 at 0x21d25646848>,\n",
       " <Gene b3733 at 0x21d25646dc8>,\n",
       " <Gene b3736 at 0x21d25648388>,\n",
       " <Gene b3737 at 0x21d25648948>,\n",
       " <Gene b3739 at 0x21d25648f08>,\n",
       " <Gene b3738 at 0x21d2564a508>,\n",
       " <Gene b3735 at 0x21d2564aac8>,\n",
       " <Gene b3731 at 0x21d2564c088>,\n",
       " <Gene b3732 at 0x21d2564c648>,\n",
       " <Gene b0720 at 0x21d2564cc08>,\n",
       " <Gene b0733 at 0x21d2564d208>,\n",
       " <Gene b0734 at 0x21d23b7dd88>,\n",
       " <Gene b0979 at 0x21d2564dd48>,\n",
       " <Gene b0978 at 0x21d2564e2c8>,\n",
       " <Gene b3603 at 0x21d2564e808>,\n",
       " <Gene b2975 at 0x21d2564edc8>,\n",
       " <Gene b2779 at 0x21d256503c8>,\n",
       " <Gene b2925 at 0x21d23a95fc8>,\n",
       " <Gene b1773 at 0x21d25650ec8>,\n",
       " <Gene b2097 at 0x21d25653448>,\n",
       " <Gene b3925 at 0x21d25653a48>,\n",
       " <Gene b4232 at 0x21d25653f88>,\n",
       " <Gene b2492 at 0x21d25655548>,\n",
       " <Gene b0904 at 0x21d25655a88>,\n",
       " <Gene b4152 at 0x21d25655fc8>,\n",
       " <Gene b4154 at 0x21d25656588>,\n",
       " <Gene b4153 at 0x21d25656b08>,\n",
       " <Gene b4151 at 0x21d25658088>,\n",
       " <Gene b1819 at 0x21d256585c8>,\n",
       " <Gene b1817 at 0x21d25658b08>,\n",
       " <Gene b2416 at 0x21d25659088>,\n",
       " <Gene b2415 at 0x21d256596c8>,\n",
       " <Gene b1818 at 0x21d25659d08>,\n",
       " <Gene b1611 at 0x21d2565b2c8>,\n",
       " <Gene b4122 at 0x21d2565b8c8>,\n",
       " <Gene b1612 at 0x21d2565bec8>,\n",
       " <Gene b3528 at 0x21d2565d448>,\n",
       " <Gene b1852 at 0x21d2565d988>,\n",
       " <Gene b1779 at 0x21d256374c8>,\n",
       " <Gene b1101 at 0x21d2565f448>,\n",
       " <Gene b2417 at 0x21d2565f988>,\n",
       " <Gene b1621 at 0x21d2565fec8>,\n",
       " <Gene b1297 at 0x21d25661608>,\n",
       " <Gene b3870 at 0x21d25661c48>,\n",
       " <Gene b0809 at 0x21d256621c8>,\n",
       " <Gene b0811 at 0x21d25662748>,\n",
       " <Gene b0810 at 0x21d25662c88>,\n",
       " <Gene b1761 at 0x21d25665208>,\n",
       " <Gene b1524 at 0x21d25665748>,\n",
       " <Gene b0485 at 0x21d25665c88>,\n",
       " <Gene b1812 at 0x21d25666208>,\n",
       " <Gene b3213 at 0x21d256667c8>,\n",
       " <Gene b3212 at 0x21d25666d88>,\n",
       " <Gene b4077 at 0x21d25667308>,\n",
       " <Gene b2029 at 0x21d25667908>,\n",
       " <Gene b0875 at 0x21d25667f08>,\n",
       " <Gene b1136 at 0x21d25669488>,\n",
       " <Gene b4015 at 0x21d25669988>,\n",
       " <Gene b1380 at 0x21d25669f08>,\n",
       " <Gene b2133 at 0x21d2566b508>,\n",
       " <Gene b4014 at 0x21d2566ba48>,\n",
       " <Gene b2976 at 0x21d2566d088>,\n",
       " <Gene b3236 at 0x21d2566d5c8>,\n",
       " <Gene b1479 at 0x21d2566db48>,\n",
       " <Gene b2463 at 0x21d2566f108>,\n",
       " <Gene b2281 at 0x21d2566f648>,\n",
       " <Gene b2277 at 0x21d2566fbc8>,\n",
       " <Gene b2280 at 0x21d25670188>,\n",
       " <Gene b2286 at 0x21d256706c8>,\n",
       " <Gene b2287 at 0x21d25670c48>,\n",
       " <Gene b2284 at 0x21d256721c8>,\n",
       " <Gene b2276 at 0x21d25672788>,\n",
       " <Gene b2282 at 0x21d25672cc8>,\n",
       " <Gene b2279 at 0x21d25676288>,\n",
       " <Gene b2283 at 0x21d256767c8>,\n",
       " <Gene b2285 at 0x21d25676d08>,\n",
       " <Gene b2288 at 0x21d25677288>,\n",
       " <Gene b2278 at 0x21d256777c8>,\n",
       " <Gene b1603 at 0x21d25677d08>,\n",
       " <Gene b3962 at 0x21d25679288>,\n",
       " <Gene b1602 at 0x21d256797c8>,\n",
       " <Gene b0451 at 0x21d25679d08>,\n",
       " <Gene b0114 at 0x21d2567a308>,\n",
       " <Gene b0115 at 0x21d2567a848>,\n",
       " <Gene b3916 at 0x21d2567adc8>,\n",
       " <Gene b1723 at 0x21d2567b348>,\n",
       " <Gene b3114 at 0x21d2567b888>,\n",
       " <Gene b2579 at 0x21d2567bdc8>,\n",
       " <Gene b3951 at 0x21d2567e348>,\n",
       " <Gene b0902 at 0x21d2567e8c8>,\n",
       " <Gene b3952 at 0x21d2567ee48>,\n",
       " <Gene b0903 at 0x21d25681408>,\n",
       " <Gene b4025 at 0x21d25681988>,\n",
       " <Gene b2926 at 0x21d25681f08>,\n",
       " <Gene b0767 at 0x21d256824c8>,\n",
       " <Gene b3612 at 0x21d25682a08>,\n",
       " <Gene b4395 at 0x21d25682f48>,\n",
       " <Gene b0755 at 0x21d25683548>,\n",
       " <Gene b3493 at 0x21d25683b88>,\n",
       " <Gene b2987 at 0x21d25686148>,\n",
       " <Gene b3956 at 0x21d256866c8>,\n",
       " <Gene b3403 at 0x21d25686c48>,\n",
       " <Gene b1702 at 0x21d256871c8>,\n",
       " <Gene b2297 at 0x21d25687788>,\n",
       " <Gene b2458 at 0x21d25687d08>,\n",
       " <Gene b1676 at 0x21d256882c8>,\n",
       " <Gene b1854 at 0x21d25688808>,\n",
       " <Gene b3386 at 0x21d25688dc8>,\n",
       " <Gene b4301 at 0x21d2568a348>,\n",
       " <Gene b2914 at 0x21d2568a888>,\n",
       " <Gene b4090 at 0x21d2568ae48>,\n",
       " <Gene b0721 at 0x21d2568d408>,\n",
       " <Gene b0722 at 0x21d2568d988>,\n",
       " <Gene b0724 at 0x21d2568df88>,\n",
       " <Gene b0723 at 0x21d2568f548>,\n",
       " <Gene b0729 at 0x21d2568fa88>,\n",
       " <Gene b0728 at 0x21d2568ffc8>,\n",
       " <Gene b0008 at 0x21d25690548>,\n",
       " <Gene b2464 at 0x21d25690a88>,\n",
       " <Gene b2465 at 0x21d25690fc8>,\n",
       " <Gene b2935 at 0x21d25692588>,\n",
       " <Gene b3919 at 0x21d25692ac8>]"
      ]
     },
     "execution_count": 7,
     "metadata": {},
     "output_type": "execute_result"
    }
   ],
   "source": [
    "# List of genes\n",
    "\n",
    "model.genes"
   ]
  },
  {
   "cell_type": "code",
   "execution_count": 8,
   "id": "229f65b9",
   "metadata": {},
   "outputs": [
    {
     "data": {
      "text/html": [
       "\n",
       "        <table>\n",
       "            <tr>\n",
       "                <td><strong>Reaction identifier</strong></td><td>ACALD</td>\n",
       "            </tr><tr>\n",
       "                <td><strong>Name</strong></td><td>Acetaldehyde dehydrogenase (acetylating)</td>\n",
       "            </tr><tr>\n",
       "                <td><strong>Memory address</strong></td>\n",
       "                <td>0x21d256a30c8</td>\n",
       "            </tr><tr>\n",
       "                <td><strong>Stoichiometry</strong></td>\n",
       "                <td>\n",
       "                    <p style='text-align:right'>acald_c + coa_c + nad_c <=> accoa_c + h_c + nadh_c</p>\n",
       "                    <p style='text-align:right'>Acetaldehyde + Coenzyme A + Nicotinamide adenine dinucleotide <=> Acetyl-CoA + H+ + Nicotinamide adenine dinucleotide - reduced</p>\n",
       "                </td>\n",
       "            </tr><tr>\n",
       "                <td><strong>GPR</strong></td><td>b0351 or b1241</td>\n",
       "            </tr><tr>\n",
       "                <td><strong>Lower bound</strong></td><td>-1000.0</td>\n",
       "            </tr><tr>\n",
       "                <td><strong>Upper bound</strong></td><td>1000.0</td>\n",
       "            </tr>\n",
       "        </table>\n",
       "        "
      ],
      "text/plain": [
       "<Reaction ACALD at 0x21d256a30c8>"
      ]
     },
     "execution_count": 8,
     "metadata": {},
     "output_type": "execute_result"
    }
   ],
   "source": [
    "# Investigating properties of a reaction by Index\n",
    "\n",
    "model.reactions[5]"
   ]
  },
  {
   "cell_type": "code",
   "execution_count": 9,
   "id": "2065f3c0",
   "metadata": {},
   "outputs": [
    {
     "data": {
      "text/html": [
       "\n",
       "        <table>\n",
       "            <tr>\n",
       "                <td><strong>Metabolite identifier</strong></td><td>co2_e</td>\n",
       "            </tr><tr>\n",
       "                <td><strong>Name</strong></td><td>CO2 CO2</td>\n",
       "            </tr><tr>\n",
       "                <td><strong>Memory address</strong></td>\n",
       "                <td>0x21d25620d08</td>\n",
       "            </tr><tr>\n",
       "                <td><strong>Formula</strong></td><td>CO2</td>\n",
       "            </tr><tr>\n",
       "                <td><strong>Compartment</strong></td><td>e</td>\n",
       "            </tr><tr>\n",
       "                <td><strong>In 2 reaction(s)</strong></td><td>\n",
       "                    CO2t, EX_co2_e\n",
       "                    </td>\n",
       "            </tr>\n",
       "        </table>"
      ],
      "text/plain": [
       "<Metabolite co2_e at 0x21d25620d08>"
      ]
     },
     "execution_count": 9,
     "metadata": {},
     "output_type": "execute_result"
    }
   ],
   "source": [
    "# Investigating properties of a metabolite by ID\n",
    "\n",
    "model.metabolites.get_by_id(\"co2_e\")"
   ]
  },
  {
   "cell_type": "markdown",
   "id": "927b705d",
   "metadata": {},
   "source": [
    "### Reaction Bounds\n",
    "\n",
    "Reaction bounds refer to the constraints on the allowable flux values (reaction rates) of a given metabolic reaction. These bounds define the range within which the flux can vary during simulations, such as Flux Balance Analysis (FBA).\n",
    "\n",
    "Types of Bounds\n",
    "\n",
    "1) Lower Bound:\n",
    "\n",
    "- Represents the minimum allowable flux for the reaction.\n",
    "        \n",
    "- Determines whether the reaction can occur in the reverse direction\n",
    "        \n",
    "- A negative lower bound indicates that the reaction is reversible and can proceed in the reverse direction.\n",
    "        \n",
    "- A lower bound of 0 indicates the reaction is irreversible in the forward direction.\n",
    "        \n",
    "\n",
    "2) Upper Bound:\n",
    "\n",
    "- Represents the maximum allowable flux for the reaction.\n",
    "        \n",
    "- A high or infinite upper bound means no limit is imposed on the forward flux."
   ]
  },
  {
   "cell_type": "code",
   "execution_count": 10,
   "id": "d05a94cf",
   "metadata": {},
   "outputs": [
    {
     "data": {
      "text/plain": [
       "(-10.0, 1000.0)"
      ]
     },
     "execution_count": 10,
     "metadata": {},
     "output_type": "execute_result"
    }
   ],
   "source": [
    "# Bounds of a reaction by ID\n",
    "\n",
    "model.reactions.EX_glc__D_e.bounds"
   ]
  },
  {
   "cell_type": "code",
   "execution_count": 11,
   "id": "b677b2c4",
   "metadata": {},
   "outputs": [
    {
     "name": "stdout",
     "output_type": "stream",
     "text": [
      "PFK\n",
      "PFL\n",
      "PGI\n",
      "PGK\n",
      "PGL\n",
      "ACALD\n",
      "AKGt2r\n",
      "PGM\n",
      "PIt2r\n",
      "ALCD2x\n",
      "ACALDt\n",
      "ACKr\n",
      "PPC\n",
      "ACONTa\n",
      "ACONTb\n",
      "ATPM\n",
      "PPCK\n",
      "ACt2r\n",
      "PPS\n",
      "ADK1\n",
      "AKGDH\n",
      "ATPS4r\n",
      "PTAr\n",
      "PYK\n",
      "BIOMASS_Ecoli_core_w_GAM\n",
      "PYRt2\n",
      "CO2t\n",
      "RPE\n",
      "CS\n",
      "RPI\n",
      "SUCCt2_2\n",
      "CYTBD\n",
      "D_LACt2\n",
      "ENO\n",
      "SUCCt3\n",
      "ETOHt2r\n",
      "SUCDi\n",
      "SUCOAS\n",
      "TALA\n",
      "THD2\n",
      "TKT1\n",
      "TKT2\n",
      "TPI\n",
      "EX_ac_e\n",
      "EX_acald_e\n",
      "EX_akg_e\n",
      "EX_co2_e\n",
      "EX_etoh_e\n",
      "EX_for_e\n",
      "EX_fru_e\n",
      "EX_fum_e\n",
      "EX_glc__D_e\n",
      "EX_gln__L_e\n",
      "EX_glu__L_e\n",
      "EX_h_e\n",
      "EX_h2o_e\n",
      "EX_lac__D_e\n",
      "EX_mal__L_e\n",
      "EX_nh4_e\n",
      "EX_o2_e\n",
      "EX_pi_e\n",
      "EX_pyr_e\n",
      "EX_succ_e\n",
      "FBA\n",
      "FBP\n",
      "FORt2\n",
      "FORt\n",
      "FRD7\n",
      "FRUpts2\n",
      "FUM\n",
      "FUMt2_2\n",
      "G6PDH2r\n",
      "GAPD\n",
      "GLCpts\n",
      "GLNS\n",
      "GLNabc\n",
      "GLUDy\n",
      "GLUN\n",
      "GLUSy\n",
      "GLUt2r\n",
      "GND\n",
      "H2Ot\n",
      "ICDHyr\n",
      "ICL\n",
      "LDH_D\n",
      "MALS\n",
      "MALt2_2\n",
      "MDH\n",
      "ME1\n",
      "ME2\n",
      "NADH16\n",
      "NADTRHD\n",
      "NH4t\n",
      "O2t\n",
      "PDH\n"
     ]
    }
   ],
   "source": [
    "# List of all the IDs of the reaction list\n",
    "\n",
    "for r in model.reactions:\n",
    "    print(r.id)"
   ]
  },
  {
   "cell_type": "code",
   "execution_count": 12,
   "id": "fde5e98d",
   "metadata": {},
   "outputs": [
    {
     "data": {
      "text/html": [
       "\n",
       "        <table>\n",
       "            <tr>\n",
       "                <td><strong>Reaction identifier</strong></td><td>PDH</td>\n",
       "            </tr><tr>\n",
       "                <td><strong>Name</strong></td><td>Pyruvate dehydrogenase</td>\n",
       "            </tr><tr>\n",
       "                <td><strong>Memory address</strong></td>\n",
       "                <td>0x21d257ab708</td>\n",
       "            </tr><tr>\n",
       "                <td><strong>Stoichiometry</strong></td>\n",
       "                <td>\n",
       "                    <p style='text-align:right'>coa_c + nad_c + pyr_c --> accoa_c + co2_c + nadh_c</p>\n",
       "                    <p style='text-align:right'>Coenzyme A + Nicotinamide adenine dinucleotide + Pyruvate --> Acetyl-CoA + CO2 CO2 + Nicotinamide adenine dinucleotide - reduced</p>\n",
       "                </td>\n",
       "            </tr><tr>\n",
       "                <td><strong>GPR</strong></td><td>b0114 and b0115 and b0116</td>\n",
       "            </tr><tr>\n",
       "                <td><strong>Lower bound</strong></td><td>0.0</td>\n",
       "            </tr><tr>\n",
       "                <td><strong>Upper bound</strong></td><td>1000.0</td>\n",
       "            </tr>\n",
       "        </table>\n",
       "        "
      ],
      "text/plain": [
       "<Reaction PDH at 0x21d257ab708>"
      ]
     },
     "execution_count": 12,
     "metadata": {},
     "output_type": "execute_result"
    }
   ],
   "source": [
    "model.reactions.get_by_id(\"PDH\")"
   ]
  },
  {
   "cell_type": "code",
   "execution_count": 13,
   "id": "adc76bfe",
   "metadata": {},
   "outputs": [
    {
     "data": {
      "text/html": [
       "\n",
       "        <table>\n",
       "            <tr>\n",
       "                <td><strong>Reaction identifier</strong></td><td>O2t</td>\n",
       "            </tr><tr>\n",
       "                <td><strong>Name</strong></td><td>O2 transport diffusion</td>\n",
       "            </tr><tr>\n",
       "                <td><strong>Memory address</strong></td>\n",
       "                <td>0x21d257ab848</td>\n",
       "            </tr><tr>\n",
       "                <td><strong>Stoichiometry</strong></td>\n",
       "                <td>\n",
       "                    <p style='text-align:right'>o2_e <=> o2_c</p>\n",
       "                    <p style='text-align:right'>O2 O2 <=> O2 O2</p>\n",
       "                </td>\n",
       "            </tr><tr>\n",
       "                <td><strong>GPR</strong></td><td>s0001</td>\n",
       "            </tr><tr>\n",
       "                <td><strong>Lower bound</strong></td><td>-1000.0</td>\n",
       "            </tr><tr>\n",
       "                <td><strong>Upper bound</strong></td><td>1000.0</td>\n",
       "            </tr>\n",
       "        </table>\n",
       "        "
      ],
      "text/plain": [
       "<Reaction O2t at 0x21d257ab848>"
      ]
     },
     "execution_count": 13,
     "metadata": {},
     "output_type": "execute_result"
    }
   ],
   "source": [
    "# Retrieving reaction by ID and storing in a variable\n",
    "\n",
    "oxygen = model.reactions.get_by_id(\"O2t\")\n",
    "oxygen"
   ]
  },
  {
   "cell_type": "code",
   "execution_count": 14,
   "id": "0da2bae4",
   "metadata": {
    "scrolled": true
   },
   "outputs": [
    {
     "data": {
      "text/plain": [
       "1000.0"
      ]
     },
     "execution_count": 14,
     "metadata": {},
     "output_type": "execute_result"
    }
   ],
   "source": [
    "# Calling upper bound specifically\n",
    "\n",
    "oxygen.upper_bound"
   ]
  },
  {
   "cell_type": "code",
   "execution_count": 15,
   "id": "4791acb6",
   "metadata": {},
   "outputs": [
    {
     "name": "stdout",
     "output_type": "stream",
     "text": [
      "glc__D_e\n",
      "gln__L_c\n",
      "gln__L_e\n",
      "glu__L_c\n",
      "glu__L_e\n",
      "glx_c\n",
      "h2o_c\n",
      "h2o_e\n",
      "h_c\n",
      "h_e\n",
      "icit_c\n",
      "lac__D_c\n",
      "lac__D_e\n",
      "mal__L_c\n",
      "mal__L_e\n",
      "nad_c\n",
      "nadh_c\n",
      "nadp_c\n",
      "nadph_c\n",
      "nh4_c\n",
      "13dpg_c\n",
      "nh4_e\n",
      "o2_c\n",
      "2pg_c\n",
      "o2_e\n",
      "3pg_c\n",
      "oaa_c\n",
      "pep_c\n",
      "6pgc_c\n",
      "pi_c\n",
      "6pgl_c\n",
      "pi_e\n",
      "ac_c\n",
      "pyr_c\n",
      "pyr_e\n",
      "q8_c\n",
      "q8h2_c\n",
      "r5p_c\n",
      "ru5p__D_c\n",
      "ac_e\n",
      "acald_c\n",
      "s7p_c\n",
      "acald_e\n",
      "accoa_c\n",
      "succ_c\n",
      "succ_e\n",
      "succoa_c\n",
      "acon_C_c\n",
      "xu5p__D_c\n",
      "actp_c\n",
      "adp_c\n",
      "akg_c\n",
      "akg_e\n",
      "amp_c\n",
      "atp_c\n",
      "cit_c\n",
      "co2_c\n",
      "co2_e\n",
      "coa_c\n",
      "dhap_c\n",
      "e4p_c\n",
      "etoh_c\n",
      "etoh_e\n",
      "f6p_c\n",
      "fdp_c\n",
      "for_c\n",
      "for_e\n",
      "fru_e\n",
      "fum_c\n",
      "fum_e\n",
      "g3p_c\n",
      "g6p_c\n"
     ]
    }
   ],
   "source": [
    "for x in model.metabolites:\n",
    "    print(x.id)"
   ]
  },
  {
   "cell_type": "code",
   "execution_count": 16,
   "id": "58a90d84",
   "metadata": {},
   "outputs": [],
   "source": [
    "# Retrieving metabolite by ID, storing in a variable and investigating attributes\n",
    "\n",
    "glucm = model.metabolites.get_by_id('glc__D_e')"
   ]
  },
  {
   "cell_type": "code",
   "execution_count": 17,
   "id": "de5a8334",
   "metadata": {},
   "outputs": [
    {
     "data": {
      "text/plain": [
       "'D-Glucose'"
      ]
     },
     "execution_count": 17,
     "metadata": {},
     "output_type": "execute_result"
    }
   ],
   "source": [
    "glucm.name"
   ]
  },
  {
   "cell_type": "code",
   "execution_count": 18,
   "id": "e998bce2",
   "metadata": {},
   "outputs": [
    {
     "data": {
      "text/plain": [
       "'e'"
      ]
     },
     "execution_count": 18,
     "metadata": {},
     "output_type": "execute_result"
    }
   ],
   "source": [
    "glucm.compartment"
   ]
  },
  {
   "cell_type": "code",
   "execution_count": 19,
   "id": "b0d9baa7",
   "metadata": {},
   "outputs": [
    {
     "data": {
      "text/plain": [
       "0"
      ]
     },
     "execution_count": 19,
     "metadata": {},
     "output_type": "execute_result"
    }
   ],
   "source": [
    "glucm.charge"
   ]
  },
  {
   "cell_type": "code",
   "execution_count": 20,
   "id": "b7394cf6",
   "metadata": {},
   "outputs": [
    {
     "data": {
      "text/plain": [
       "frozenset({<Reaction EX_glc__D_e at 0x21d2572bc48>,\n",
       "           <Reaction GLCpts at 0x21d2575c288>})"
      ]
     },
     "execution_count": 20,
     "metadata": {},
     "output_type": "execute_result"
    }
   ],
   "source": [
    "# Investigating the reactions a metabolite is involved in\n",
    "\n",
    "glucm.reactions"
   ]
  },
  {
   "cell_type": "code",
   "execution_count": 21,
   "id": "01d252cb",
   "metadata": {},
   "outputs": [
    {
     "data": {
      "text/plain": [
       "'C6H12O6'"
      ]
     },
     "execution_count": 21,
     "metadata": {},
     "output_type": "execute_result"
    }
   ],
   "source": [
    "glucm.formula"
   ]
  },
  {
   "cell_type": "code",
   "execution_count": 22,
   "id": "9f16068b",
   "metadata": {},
   "outputs": [
    {
     "name": "stdout",
     "output_type": "stream",
     "text": [
      "GLCpts\n",
      "EX_glc__D_e\n"
     ]
    }
   ],
   "source": [
    "for r in glucm.reactions:\n",
    "    print(r.id)"
   ]
  },
  {
   "cell_type": "code",
   "execution_count": 23,
   "id": "ed410d48",
   "metadata": {
    "scrolled": true
   },
   "outputs": [
    {
     "data": {
      "text/plain": [
       "frozenset({<Gene b0351 at 0x21d25637548>, <Gene b1241 at 0x21d25637508>})"
      ]
     },
     "execution_count": 23,
     "metadata": {},
     "output_type": "execute_result"
    }
   ],
   "source": [
    "reaction1 = model.reactions.get_by_id('ACALD')\n",
    "reaction1.genes"
   ]
  },
  {
   "cell_type": "code",
   "execution_count": 24,
   "id": "20bb51ac",
   "metadata": {},
   "outputs": [
    {
     "data": {
      "text/html": [
       "\n",
       "        <table>\n",
       "            <tr>\n",
       "                <td><strong>Reaction identifier</strong></td><td>ACALD</td>\n",
       "            </tr><tr>\n",
       "                <td><strong>Name</strong></td><td>Acetaldehyde dehydrogenase (acetylating)</td>\n",
       "            </tr><tr>\n",
       "                <td><strong>Memory address</strong></td>\n",
       "                <td>0x21d256a30c8</td>\n",
       "            </tr><tr>\n",
       "                <td><strong>Stoichiometry</strong></td>\n",
       "                <td>\n",
       "                    <p style='text-align:right'>acald_c + coa_c + nad_c <=> accoa_c + h_c + nadh_c</p>\n",
       "                    <p style='text-align:right'>Acetaldehyde + Coenzyme A + Nicotinamide adenine dinucleotide <=> Acetyl-CoA + H+ + Nicotinamide adenine dinucleotide - reduced</p>\n",
       "                </td>\n",
       "            </tr><tr>\n",
       "                <td><strong>GPR</strong></td><td>b0351 or b1241</td>\n",
       "            </tr><tr>\n",
       "                <td><strong>Lower bound</strong></td><td>-1000.0</td>\n",
       "            </tr><tr>\n",
       "                <td><strong>Upper bound</strong></td><td>1000.0</td>\n",
       "            </tr>\n",
       "        </table>\n",
       "        "
      ],
      "text/plain": [
       "<Reaction ACALD at 0x21d256a30c8>"
      ]
     },
     "execution_count": 24,
     "metadata": {},
     "output_type": "execute_result"
    }
   ],
   "source": [
    "model.reactions.get_by_id('ACALD')"
   ]
  },
  {
   "cell_type": "code",
   "execution_count": 25,
   "id": "32c9a7c3",
   "metadata": {},
   "outputs": [
    {
     "data": {
      "text/plain": [
       "True"
      ]
     },
     "execution_count": 25,
     "metadata": {},
     "output_type": "execute_result"
    }
   ],
   "source": [
    "# checking the reversibility of a reaction\n",
    "# If the lower bound of a reaction <0 and the upper bound of a reaction is >0, the reaction is reversible.\n",
    "\n",
    "reaction1.reversibility"
   ]
  },
  {
   "cell_type": "code",
   "execution_count": 26,
   "id": "93c56ce6",
   "metadata": {},
   "outputs": [
    {
     "data": {
      "text/plain": [
       "{}"
      ]
     },
     "execution_count": 26,
     "metadata": {},
     "output_type": "execute_result"
    }
   ],
   "source": [
    "# Checking if a reaction is mass balanced. Empty list indicates balanced.\n",
    "\n",
    "reaction1.check_mass_balance()"
   ]
  },
  {
   "cell_type": "code",
   "execution_count": 27,
   "id": "43dffe48",
   "metadata": {},
   "outputs": [
    {
     "name": "stdout",
     "output_type": "stream",
     "text": [
      "b1241\n",
      "b0351\n",
      "s0001\n",
      "b1849\n",
      "b3115\n",
      "b2296\n",
      "b1276\n",
      "b0118\n",
      "b0474\n",
      "b0116\n",
      "b0727\n",
      "b0726\n",
      "b2587\n",
      "b0356\n",
      "b1478\n",
      "b3734\n",
      "b3733\n",
      "b3736\n",
      "b3737\n",
      "b3739\n",
      "b3738\n",
      "b3735\n",
      "b3731\n",
      "b3732\n",
      "b0720\n",
      "b0733\n",
      "b0734\n",
      "b0979\n",
      "b0978\n",
      "b3603\n",
      "b2975\n",
      "b2779\n",
      "b2925\n",
      "b1773\n",
      "b2097\n",
      "b3925\n",
      "b4232\n",
      "b2492\n",
      "b0904\n",
      "b4152\n",
      "b4154\n",
      "b4153\n",
      "b4151\n",
      "b1819\n",
      "b1817\n",
      "b2416\n",
      "b2415\n",
      "b1818\n",
      "b1611\n",
      "b4122\n",
      "b1612\n",
      "b3528\n",
      "b1852\n",
      "b1779\n",
      "b1101\n",
      "b2417\n",
      "b1621\n",
      "b1297\n",
      "b3870\n",
      "b0809\n",
      "b0811\n",
      "b0810\n",
      "b1761\n",
      "b1524\n",
      "b0485\n",
      "b1812\n",
      "b3213\n",
      "b3212\n",
      "b4077\n",
      "b2029\n",
      "b0875\n",
      "b1136\n",
      "b4015\n",
      "b1380\n",
      "b2133\n",
      "b4014\n",
      "b2976\n",
      "b3236\n",
      "b1479\n",
      "b2463\n",
      "b2281\n",
      "b2277\n",
      "b2280\n",
      "b2286\n",
      "b2287\n",
      "b2284\n",
      "b2276\n",
      "b2282\n",
      "b2279\n",
      "b2283\n",
      "b2285\n",
      "b2288\n",
      "b2278\n",
      "b1603\n",
      "b3962\n",
      "b1602\n",
      "b0451\n",
      "b0114\n",
      "b0115\n",
      "b3916\n",
      "b1723\n",
      "b3114\n",
      "b2579\n",
      "b3951\n",
      "b0902\n",
      "b3952\n",
      "b0903\n",
      "b4025\n",
      "b2926\n",
      "b0767\n",
      "b3612\n",
      "b4395\n",
      "b0755\n",
      "b3493\n",
      "b2987\n",
      "b3956\n",
      "b3403\n",
      "b1702\n",
      "b2297\n",
      "b2458\n",
      "b1676\n",
      "b1854\n",
      "b3386\n",
      "b4301\n",
      "b2914\n",
      "b4090\n",
      "b0721\n",
      "b0722\n",
      "b0724\n",
      "b0723\n",
      "b0729\n",
      "b0728\n",
      "b0008\n",
      "b2464\n",
      "b2465\n",
      "b2935\n",
      "b3919\n"
     ]
    }
   ],
   "source": [
    "for r in model.genes:\n",
    "    print(r.id)"
   ]
  },
  {
   "cell_type": "code",
   "execution_count": 28,
   "id": "95f7f778",
   "metadata": {},
   "outputs": [
    {
     "data": {
      "text/html": [
       "\n",
       "        <table>\n",
       "            <tr>\n",
       "                <td><strong>Gene identifier</strong></td><td>b1241</td>\n",
       "            </tr><tr>\n",
       "                <td><strong>Name</strong></td><td>adhE</td>\n",
       "            </tr><tr>\n",
       "                <td><strong>Memory address</strong></td>\n",
       "                <td>0x21d25637508</td>\n",
       "            </tr><tr>\n",
       "                <td><strong>Functional</strong></td><td>True</td>\n",
       "            </tr><tr>\n",
       "                <td><strong>In 2 reaction(s)</strong></td><td>\n",
       "                    ALCD2x, ACALD\n",
       "                    </td>\n",
       "            </tr>\n",
       "        </table>"
      ],
      "text/plain": [
       "<Gene b1241 at 0x21d25637508>"
      ]
     },
     "execution_count": 28,
     "metadata": {},
     "output_type": "execute_result"
    }
   ],
   "source": [
    "# Retrieving gene information by ID\n",
    "\n",
    "model.genes.get_by_id('b1241')"
   ]
  },
  {
   "cell_type": "code",
   "execution_count": null,
   "id": "ba6702eb",
   "metadata": {},
   "outputs": [],
   "source": []
  }
 ],
 "metadata": {
  "kernelspec": {
   "display_name": "Python 3 (ipykernel)",
   "language": "python",
   "name": "python3"
  },
  "language_info": {
   "codemirror_mode": {
    "name": "ipython",
    "version": 3
   },
   "file_extension": ".py",
   "mimetype": "text/x-python",
   "name": "python",
   "nbconvert_exporter": "python",
   "pygments_lexer": "ipython3",
   "version": "3.7.12"
  }
 },
 "nbformat": 4,
 "nbformat_minor": 5
}
